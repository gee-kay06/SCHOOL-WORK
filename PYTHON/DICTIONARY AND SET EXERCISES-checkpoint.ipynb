{
 "cells": [
  {
   "cell_type": "markdown",
   "id": "9f7cbf24",
   "metadata": {},
   "source": []
  },
  {
   "cell_type": "code",
   "execution_count": 1,
   "id": "3d24541a",
   "metadata": {},
   "outputs": [
    {
     "name": "stdout",
     "output_type": "stream",
     "text": [
      "{'chris': '000-666', 'sara': '666-777', 'katie': '333-555'}\n",
      "000-666\n"
     ]
    }
   ],
   "source": [
    "phonebook={'chris':'000-666','sara':'666-777','katie':'333-555'}\n",
    "print(phonebook)\n",
    "print(phonebook['chris'])"
   ]
  },
  {
   "cell_type": "code",
   "execution_count": 2,
   "id": "136ffe05",
   "metadata": {},
   "outputs": [
    {
     "name": "stdout",
     "output_type": "stream",
     "text": [
      "ENTER YOUR NAME: dade\n",
      "get out\n"
     ]
    }
   ],
   "source": [
    "name =input(\"ENTER YOUR NAME: \")\n",
    "phonebook={'chris':'000-666','sara':'666-777','katie':'333-555'}\n",
    "if name in phonebook :\n",
    "    print(\"found\")\n",
    "else:\n",
    "    print(\"get out\")"
   ]
  },
  {
   "cell_type": "code",
   "execution_count": 3,
   "id": "3d8b5c73",
   "metadata": {},
   "outputs": [
    {
     "name": "stdout",
     "output_type": "stream",
     "text": [
      "ENTER YOUR NAME: chris\n",
      "found\n"
     ]
    }
   ],
   "source": [
    "name =input(\"ENTER YOUR NAME: \")\n",
    "phonebook={'chris':'000-666','sara':'666-777','katie':'333-555'}\n",
    "if name not in phonebook :\n",
    "    print(\"invalid\")\n",
    "else:\n",
    "    print(\"found\")"
   ]
  },
  {
   "cell_type": "code",
   "execution_count": 4,
   "id": "b45e8f09",
   "metadata": {},
   "outputs": [
    {
     "name": "stdout",
     "output_type": "stream",
     "text": [
      "enter your name: were\n",
      "enter your number: 000-234\n",
      "enter your name: gigihadid\n",
      "enter your number: 123-456\n",
      "enter your name: oseaghe\n",
      "enter your number: 234-456\n",
      "enter your name: oseaghegheeee\n",
      "enter your number: 456-789\n",
      "enter your name: AG\n",
      "enter your number: 098-765\n",
      "{'chris': '000-666', 'sara': '666-777', 'katie': '333-555', 'were': '000-234', 'gigihadid': '123-456', 'oseaghe': '234-456', 'oseaghegheeee': '456-789', 'AG': '098-765'}\n"
     ]
    }
   ],
   "source": [
    "phonebook={'chris':'000-666','sara':'666-777','katie':'333-555'}\n",
    "for i in range(5):\n",
    "    name=input(\"enter your name: \")\n",
    "    phonenumber=input(\"enter your number: \")\n",
    "    phonebook[name]=phonenumber\n",
    "print(phonebook)\n"
   ]
  },
  {
   "cell_type": "code",
   "execution_count": 6,
   "id": "464dd6e7",
   "metadata": {},
   "outputs": [
    {
     "name": "stdout",
     "output_type": "stream",
     "text": [
      "{'sara': '666-777', 'katie': '333-555'}\n"
     ]
    }
   ],
   "source": [
    "phonebook={'chris':'000-666','sara':'666-777','katie':'333-555'}\n",
    "del phonebook['chris']\n",
    "print(phonebook)"
   ]
  },
  {
   "cell_type": "code",
   "execution_count": 7,
   "id": "bb1bcf51",
   "metadata": {},
   "outputs": [
    {
     "name": "stdout",
     "output_type": "stream",
     "text": [
      "3\n"
     ]
    }
   ],
   "source": [
    "phonebook={'chris':'000-666','sara':'666-777','katie':'333-555'}\n",
    "items=len(phonebook)\n",
    "print(items)"
   ]
  },
  {
   "cell_type": "code",
   "execution_count": 10,
   "id": "9a22dfa8",
   "metadata": {},
   "outputs": [
    {
     "name": "stdout",
     "output_type": "stream",
     "text": [
      "351\n"
     ]
    }
   ],
   "source": [
    "testscores={'kayla':[88,92,100],'luis':[95,74,81],'sophie':[72,88,91],'ethan':[70,75,79]}\n",
    "total=0\n",
    "for i in testscores:\n",
    "    total+=testscores[i][2]\n",
    "print(total)"
   ]
  },
  {
   "cell_type": "code",
   "execution_count": 11,
   "id": "53eb79b4",
   "metadata": {},
   "outputs": [
    {
     "name": "stdout",
     "output_type": "stream",
     "text": [
      "{}\n"
     ]
    }
   ],
   "source": [
    "testscores={'kayla':[88,92,100],'luis':[95,74,81],'sophie':[72,88,91],'ethan':[70,75,79]}\n",
    "testscores.clear()\n",
    "print(testscores)"
   ]
  },
  {
   "cell_type": "code",
   "execution_count": 13,
   "id": "1eedb417",
   "metadata": {},
   "outputs": [
    {
     "data": {
      "text/plain": [
       "[88, 92, 100]"
      ]
     },
     "execution_count": 13,
     "metadata": {},
     "output_type": "execute_result"
    }
   ],
   "source": [
    "testscores={'kayla':[88,92,100],'luis':[95,74,81],'sophie':[72,88,91],'ethan':[70,75,79]}\n",
    "testscores.get('kayla','entry not found')\n"
   ]
  },
  {
   "cell_type": "code",
   "execution_count": 14,
   "id": "8c8e0211",
   "metadata": {},
   "outputs": [
    {
     "name": "stdout",
     "output_type": "stream",
     "text": [
      "kayla\n",
      "luis\n",
      "sophie\n",
      "ethan\n"
     ]
    }
   ],
   "source": [
    "testscores={'kayla':[88,92,100],'luis':[95,74,81],'sophie':[72,88,91],'ethan':[70,75,79]}\n",
    "for i in testscores.keys():\n",
    "    print(i)\n",
    "    "
   ]
  },
  {
   "cell_type": "code",
   "execution_count": 15,
   "id": "233387f0",
   "metadata": {},
   "outputs": [
    {
     "name": "stdout",
     "output_type": "stream",
     "text": [
      "dict_items([('kayla', [88, 92, 100]), ('luis', [95, 74, 81]), ('sophie', [72, 88, 91]), ('ethan', [70, 75, 79])])\n"
     ]
    }
   ],
   "source": [
    "testscores={'kayla':[88,92,100],'luis':[95,74,81],'sophie':[72,88,91],'ethan':[70,75,79]}\n",
    "print(testscores.items())"
   ]
  },
  {
   "cell_type": "code",
   "execution_count": 25,
   "id": "607d401e",
   "metadata": {},
   "outputs": [
    {
     "name": "stdout",
     "output_type": "stream",
     "text": [
      "{'kayla': [88, 92, 100], 'luis': [95, 74, 81], 'sophie': [72, 88, 91], 'ethan': [70, 75, 79]}\n",
      "{'luis': [95, 74, 81], 'sophie': [72, 88, 91], 'ethan': [70, 75, 79]}\n"
     ]
    }
   ],
   "source": [
    "testscores={'kayla':[88,92,100],'luis':[95,74,81],'sophie':[72,88,91],'ethan':[70,75,79]}\n",
    "print(testscores)\n",
    "testscores.pop('kayla','[88,92,100]')\n",
    "print(testscores)"
   ]
  },
  {
   "cell_type": "code",
   "execution_count": 23,
   "id": "516a1e96",
   "metadata": {},
   "outputs": [
    {
     "ename": "SyntaxError",
     "evalue": "incomplete input (3247253283.py, line 1)",
     "output_type": "error",
     "traceback": [
      "\u001b[1;36m  Cell \u001b[1;32mIn[23], line 1\u001b[1;36m\u001b[0m\n\u001b[1;33m    def clear():\u001b[0m\n\u001b[1;37m                ^\u001b[0m\n\u001b[1;31mSyntaxError\u001b[0m\u001b[1;31m:\u001b[0m incomplete input\n"
     ]
    }
   ],
   "source": [
    "\n"
   ]
  },
  {
   "cell_type": "code",
   "execution_count": null,
   "id": "deaddae6",
   "metadata": {},
   "outputs": [],
   "source": []
  }
 ],
 "metadata": {
  "kernelspec": {
   "display_name": "Python 3 (ipykernel)",
   "language": "python",
   "name": "python3"
  },
  "language_info": {
   "codemirror_mode": {
    "name": "ipython",
    "version": 3
   },
   "file_extension": ".py",
   "mimetype": "text/x-python",
   "name": "python",
   "nbconvert_exporter": "python",
   "pygments_lexer": "ipython3",
   "version": "3.11.5"
  }
 },
 "nbformat": 4,
 "nbformat_minor": 5
}
