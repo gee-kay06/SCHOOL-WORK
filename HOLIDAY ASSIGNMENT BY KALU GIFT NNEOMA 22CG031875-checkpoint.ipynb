{
 "cells": [
  {
   "cell_type": "markdown",
   "id": "86a5862a",
   "metadata": {},
   "source": [
    "### No coding in chapter one"
   ]
  },
  {
   "cell_type": "markdown",
   "id": "141e3b76",
   "metadata": {},
   "source": [
    "# CHAPTER 2"
   ]
  },
  {
   "cell_type": "markdown",
   "id": "593d1d67",
   "metadata": {},
   "source": [
    "## Algorithm Workbench"
   ]
  },
  {
   "cell_type": "code",
   "execution_count": 29,
   "id": "228bc889",
   "metadata": {},
   "outputs": [
    {
     "name": "stdout",
     "output_type": "stream",
     "text": [
      "Please enter your age: 18\n"
     ]
    }
   ],
   "source": [
    "age = int(input(\"Please enter your age: \"))"
   ]
  },
  {
   "cell_type": "code",
   "execution_count": 30,
   "id": "e5b0718b",
   "metadata": {},
   "outputs": [
    {
     "name": "stdout",
     "output_type": "stream",
     "text": [
      "Enter you favorite color: red\n"
     ]
    }
   ],
   "source": [
    "color = input(\"Enter you favorite color: \")"
   ]
  },
  {
   "cell_type": "code",
   "execution_count": 31,
   "id": "d295af09",
   "metadata": {},
   "outputs": [
    {
     "name": "stdout",
     "output_type": "stream",
     "text": [
      "Enter a value:23\n",
      "38.0 46.0\n"
     ]
    }
   ],
   "source": [
    "a = int(input(\"Enter a value:\"))\n",
    "b = 2*a\n",
    "a = b*4\n",
    "b = a/4\n",
    "a = b-8\n",
    "print(a , b)"
   ]
  },
  {
   "cell_type": "code",
   "execution_count": 32,
   "id": "f2590dc9",
   "metadata": {},
   "outputs": [
    {
     "name": "stdout",
     "output_type": "stream",
     "text": [
      "12\n",
      "4\n",
      "2.0\n",
      "6\n",
      "2\n"
     ]
    }
   ],
   "source": [
    "w = 5; x = 4; y= 8; z = 2\n",
    "result = x + y\n",
    "print(result)\n",
    "result = z*2\n",
    "print(result)\n",
    "result = y/x\n",
    "print(result)\n",
    "result = y-z\n",
    "print(result)\n",
    "result = w//z\n",
    "print(result)"
   ]
  },
  {
   "cell_type": "code",
   "execution_count": 33,
   "id": "4af258d9",
   "metadata": {},
   "outputs": [
    {
     "name": "stdout",
     "output_type": "stream",
     "text": [
      "150\n"
     ]
    }
   ],
   "source": [
    "product = 10*15\n",
    "print(product)"
   ]
  },
  {
   "cell_type": "code",
   "execution_count": 34,
   "id": "a0370e4a",
   "metadata": {},
   "outputs": [
    {
     "name": "stdout",
     "output_type": "stream",
     "text": [
      "1800\n"
     ]
    }
   ],
   "source": [
    "down_payment = 200\n",
    "total = 2000\n",
    "due = total-down_payment\n",
    "print(due)"
   ]
  },
  {
   "cell_type": "code",
   "execution_count": 35,
   "id": "5c366cfb",
   "metadata": {},
   "outputs": [
    {
     "name": "stdout",
     "output_type": "stream",
     "text": [
      "Your total is  30.0\n"
     ]
    }
   ],
   "source": [
    "subtotal = 200\n",
    "total = subtotal * 0.15\n",
    "print(\"Your total is \",total)"
   ]
  },
  {
   "cell_type": "code",
   "execution_count": 36,
   "id": "6e29346e",
   "metadata": {},
   "outputs": [
    {
     "name": "stdout",
     "output_type": "stream",
     "text": [
      "11\n"
     ]
    }
   ],
   "source": [
    "a = 5; b = 2; c = 3\n",
    "result = a + b * c\n",
    "print(result)"
   ]
  },
  {
   "cell_type": "code",
   "execution_count": 37,
   "id": "4a213098",
   "metadata": {},
   "outputs": [
    {
     "name": "stdout",
     "output_type": "stream",
     "text": [
      "5\n"
     ]
    }
   ],
   "source": [
    "num = 99; num = 5\n",
    "print(num)"
   ]
  },
  {
   "cell_type": "code",
   "execution_count": 38,
   "id": "164d4095",
   "metadata": {},
   "outputs": [
    {
     "name": "stdout",
     "output_type": "stream",
     "text": [
      "200.00\n"
     ]
    }
   ],
   "source": [
    "sales = float(200)\n",
    "print(format(sales, '.2f'))"
   ]
  },
  {
   "cell_type": "code",
   "execution_count": 39,
   "id": "b5426ecc",
   "metadata": {},
   "outputs": [
    {
     "name": "stdout",
     "output_type": "stream",
     "text": [
      "1,234,567.46\n"
     ]
    }
   ],
   "source": [
    "number = 1234567.456\n",
    "print(format(number,',.2f'))"
   ]
  },
  {
   "cell_type": "code",
   "execution_count": 40,
   "id": "5e2e60e0",
   "metadata": {},
   "outputs": [
    {
     "name": "stdout",
     "output_type": "stream",
     "text": [
      "X\tO\tX\n",
      "O\tX\tO\n",
      "X\tO\tX\n",
      "\n"
     ]
    }
   ],
   "source": [
    "print('X\\tO\\tX\\nO\\tX\\tO\\nX\\tO\\tX\\n')"
   ]
  },
  {
   "cell_type": "code",
   "execution_count": 41,
   "id": "98278566",
   "metadata": {},
   "outputs": [],
   "source": [
    "import turtle\n",
    "turtle.circle(75)"
   ]
  },
  {
   "cell_type": "code",
   "execution_count": 42,
   "id": "ba6c520e",
   "metadata": {},
   "outputs": [],
   "source": [
    "import turtle\n",
    "turtle.fillcolor(\"blue\")\n",
    "turtle.begin_fill()\n",
    "turtle.forward(100)\n",
    "turtle.left(90)\n",
    "turtle.forward(100)\n",
    "turtle.left(90)\n",
    "turtle.forward(100)\n",
    "turtle.left(90)\n",
    "turtle.forward(100)\n",
    "turtle.end_fill()"
   ]
  },
  {
   "cell_type": "code",
   "execution_count": 62,
   "id": "b13459ce",
   "metadata": {},
   "outputs": [],
   "source": [
    "import turtle\n",
    "turtle.forward(100)\n",
    "turtle.left(90)\n",
    "turtle.forward(100)\n",
    "turtle.left(90)\n",
    "turtle.forward(100)\n",
    "turtle.left(90)\n",
    "turtle.forward(100)\n",
    "turtle.penup()\n",
    "\n",
    "turtle.fillcolor(\"blue\")\n",
    "turtle.begin_fill()\n",
    "turtle.goto(0, 50)\n",
    "turtle.pendown()\n",
    "turtle.circle(80)\n",
    "turtle.end_fill()"
   ]
  },
  {
   "cell_type": "markdown",
   "id": "94d07e1f",
   "metadata": {},
   "source": [
    "## Programming Exercises"
   ]
  },
  {
   "cell_type": "code",
   "execution_count": 44,
   "id": "2e1c28dd",
   "metadata": {},
   "outputs": [
    {
     "name": "stdout",
     "output_type": "stream",
     "text": [
      "My name is Kalu Gift Nneoma.\n",
      "I live in Number 22 Onwufuju street, Isolo, Lagos, Zip-11011\n",
      "My phone number is 0800000000\n",
      "I am a Computer science student\n"
     ]
    }
   ],
   "source": [
    "print(\"My name is Kalu Gift Nneoma.\")\n",
    "print(\"I live in Number 22 Onwufuju street, Isolo, Lagos, Zip-11011\")\n",
    "print(\"My phone number is 0800000000\")\n",
    "print(\"I am a Computer science student\")"
   ]
  },
  {
   "cell_type": "code",
   "execution_count": 45,
   "id": "f325dd58",
   "metadata": {},
   "outputs": [
    {
     "name": "stdout",
     "output_type": "stream",
     "text": [
      "Enter the projected total sales amount: 3400\n",
      "The profit that would be made is  782.0\n"
     ]
    }
   ],
   "source": [
    "sales = float(input(\"Enter the projected total sales amount: \"))\n",
    "profit = 0.23 * sales\n",
    "print(\"The profit that would be made is \", profit)"
   ]
  },
  {
   "cell_type": "code",
   "execution_count": 47,
   "id": "25dcdc1d",
   "metadata": {},
   "outputs": [
    {
     "name": "stdout",
     "output_type": "stream",
     "text": [
      "Enter that value of the mass in pounds: 450\n",
      "The kilogram eqiuivalent of this is 204.3\n"
     ]
    }
   ],
   "source": [
    "mass_in_pounds = float(input(\"Enter that value of the mass in pounds: \"))\n",
    "mass_in_kg = mass_in_pounds * 0.454\n",
    "print(\"The kilogram eqiuivalent of this is\", mass_in_kg)"
   ]
  },
  {
   "cell_type": "code",
   "execution_count": 48,
   "id": "cd002a0c",
   "metadata": {},
   "outputs": [
    {
     "name": "stdout",
     "output_type": "stream",
     "text": [
      "Enter price of the first item: 23\n",
      "Enter price of the second item: 12\n",
      "Enter price of the third item: 67\n",
      "Enter price of the fourth item: 34\n",
      "Enter price of the fifth item: 90\n",
      "Your subtotal is  226.0 with a tax of  15.820000000000002 . This comes out to  241.82\n"
     ]
    }
   ],
   "source": [
    "item1 = float(input(\"Enter price of the first item: \"))\n",
    "item2 = float(input(\"Enter price of the second item: \"))\n",
    "item3 = float(input(\"Enter price of the third item: \"))\n",
    "item4 = float(input(\"Enter price of the fourth item: \"))\n",
    "item5 = float(input(\"Enter price of the fifth item: \"))\n",
    "subtotal = item1 + item2 + item3 + item4 + item5\n",
    "tax = 0.07 * subtotal\n",
    "print(\"Your subtotal is \", subtotal, \"with a tax of \", tax, \". This comes out to \", subtotal+tax)\n"
   ]
  },
  {
   "cell_type": "code",
   "execution_count": 49,
   "id": "83f4f981",
   "metadata": {},
   "outputs": [
    {
     "name": "stdout",
     "output_type": "stream",
     "text": [
      "You travelled 420 miles.\n",
      "You travelled 700 miles.\n",
      "You travelled 1050 miles.\n"
     ]
    }
   ],
   "source": [
    "speed = 70\n",
    "\n",
    "time = 6\n",
    "print(\"You travelled\", speed * time , \"miles.\")\n",
    "\n",
    "time = 10\n",
    "print(\"You travelled\", speed * time , \"miles.\")\n",
    "\n",
    "time = 15\n",
    "print(\"You travelled\", speed * time , \"miles.\")\n"
   ]
  },
  {
   "cell_type": "code",
   "execution_count": 50,
   "id": "0ee86d0d",
   "metadata": {},
   "outputs": [
    {
     "name": "stdout",
     "output_type": "stream",
     "text": [
      "Enter the price of your purchase: 2500\n",
      "Enter the number of installments: 6\n",
      "Each installment will cost  437.5\n"
     ]
    }
   ],
   "source": [
    "purchase = float(input(\"Enter the price of your purchase: \"))\n",
    "installments = int(input(\"Enter the number of installments: \"))\n",
    "each_installment = ((0.05*purchase) + purchase)/installments\n",
    "print(\"Each installment will cost \", each_installment)"
   ]
  },
  {
   "cell_type": "code",
   "execution_count": 51,
   "id": "72c700e1",
   "metadata": {},
   "outputs": [
    {
     "name": "stdout",
     "output_type": "stream",
     "text": [
      "Enter the number of miles you drove: 120\n",
      "Enter the number of gallons of gas you used: 23\n",
      "Your number of miles per gas is  5.217391304347826\n"
     ]
    }
   ],
   "source": [
    "miles_driven = float(input(\"Enter the number of miles you drove: \"))\n",
    "gallons_of_gas = float(input(\"Enter the number of gallons of gas you used: \"))\n",
    "print(\"Your number of miles per gas is \", miles_driven / gallons_of_gas)\n"
   ]
  },
  {
   "cell_type": "code",
   "execution_count": 52,
   "id": "f504c2d6",
   "metadata": {},
   "outputs": [
    {
     "name": "stdout",
     "output_type": "stream",
     "text": [
      "Enter the price of the meal: 1200\n",
      "Your total fee is  1500.0\n"
     ]
    }
   ],
   "source": [
    "price = float(input(\"Enter the price of the meal: \"))\n",
    "tip = 0.18 * price\n",
    "tax = 0.07 * price\n",
    "print(\"Your total fee is \", price+tip+tax)"
   ]
  },
  {
   "cell_type": "code",
   "execution_count": 53,
   "id": "5fb5b13c",
   "metadata": {},
   "outputs": [
    {
     "name": "stdout",
     "output_type": "stream",
     "text": [
      "Enter radius value: 7\n",
      "The area of this circle is  153.93791\n",
      "The circumference of this circle is  43.98226\n"
     ]
    }
   ],
   "source": [
    "radius = float(input(\"Enter radius value: \"))\n",
    "print(\"The area of this circle is \", 3.14159 * radius *radius)\n",
    "print(\"The circumference of this circle is \", 2*3.14159 *radius)"
   ]
  },
  {
   "cell_type": "code",
   "execution_count": 54,
   "id": "c8d1093f",
   "metadata": {},
   "outputs": [
    {
     "name": "stdout",
     "output_type": "stream",
     "text": [
      "How many cookies do you want to make? 12\n",
      "For this amount of cookies, you need:\n",
      "Sugar: 0.38 cups\n",
      "Butter: 0.25 cups\n",
      "Flour: 0.69 cups\n"
     ]
    }
   ],
   "source": [
    "sugar_per_cookie = 1.5 / 48\n",
    "butter_per_cookie = 1.0 / 48\n",
    "flour_per_cookie = 2.75 / 48\n",
    "\n",
    "desired_cookies = int(input(\"How many cookies do you want to make? \"))\n",
    "\n",
    "sugar_amount = sugar_per_cookie * desired_cookies\n",
    "butter_amount = butter_per_cookie * desired_cookies\n",
    "flour_amount = flour_per_cookie * desired_cookies\n",
    "\n",
    "print(\"For this amount of cookies, you need:\")\n",
    "print(f\"Sugar: {sugar_amount:.2f} cups\")\n",
    "print(f\"Butter: {butter_amount:.2f} cups\")\n",
    "print(f\"Flour: {flour_amount:.2f} cups\")"
   ]
  },
  {
   "cell_type": "code",
   "execution_count": 55,
   "id": "cdbacf65",
   "metadata": {},
   "outputs": [
    {
     "name": "stdout",
     "output_type": "stream",
     "text": [
      "How many boys are there in the class: 12\n",
      "How many girls are there in the class: 23\n",
      "The boys form 34.285714285714285 percent of the class\n",
      "The girls form 65.71428571428571 percent of the class\n"
     ]
    }
   ],
   "source": [
    "boys = int(input(\"How many boys are there in the class: \"))\n",
    "girls = int(input(\"How many girls are there in the class: \"))\n",
    "total = boys + girls\n",
    "print(\"The boys form\", (boys/total) * 100, \"percent of the class\")\n",
    "print(\"The girls form\", (girls/total) * 100, \"percent of the class\")\n",
    "\n"
   ]
  },
  {
   "cell_type": "code",
   "execution_count": 56,
   "id": "220b7051",
   "metadata": {},
   "outputs": [
    {
     "name": "stdout",
     "output_type": "stream",
     "text": [
      "Joe paid 80000\n",
      "The commision he gave the broker is 2400.0\n",
      "Joe sold the shares for 85440.0\n",
      "He paid the broker 2563.2 after he sold it\n",
      "He has 476.80 $ left.\n"
     ]
    }
   ],
   "source": [
    "no_of_shares = 2000\n",
    "pay_per_share = 40\n",
    "total_shares_price = no_of_shares * pay_per_share\n",
    "commission = 0.03 * total_shares_price\n",
    "\n",
    "sold_shares = 2000\n",
    "sell_per_share = 42.72\n",
    "price_sold = sold_shares * sell_per_share\n",
    "sell_commission = 0.03 * price_sold\n",
    "\n",
    "money_left = price_sold - (total_shares_price + commission + sell_commission)\n",
    "\n",
    "print(\"Joe paid\", total_shares_price)\n",
    "print(\"The commision he gave the broker is\", commission)\n",
    "print(\"Joe sold the shares for\", price_sold)\n",
    "print(\"He paid the broker\",sell_commission,\"after he sold it\")\n",
    "print(\"He has\", format(money_left ,'.2f'), \"$ left.\")"
   ]
  },
  {
   "cell_type": "code",
   "execution_count": 58,
   "id": "c2193ff9",
   "metadata": {},
   "outputs": [
    {
     "name": "stdout",
     "output_type": "stream",
     "text": [
      "Enter the length of the row as R value: 134\n",
      "Enter the amount of space in feet as E value: 2\n",
      "Enter the space between the vines as S value: 23\n",
      "The number of grapevines that will fit in the row is 133.82608695652175\n"
     ]
    }
   ],
   "source": [
    "R = int(input(\"Enter the length of the row as R value: \"))\n",
    "E = int(input(\"Enter the amount of space in feet as E value: \"))\n",
    "S = int(input(\"Enter the space between the vines as S value: \"))\n",
    "V = (R-(2*E)/S)\n",
    "print(\"The number of grapevines that will fit in the row is\", V)"
   ]
  },
  {
   "cell_type": "code",
   "execution_count": 59,
   "id": "baca7007",
   "metadata": {},
   "outputs": [
    {
     "name": "stdout",
     "output_type": "stream",
     "text": [
      "Enter the Principal value deposited: 89000\n",
      "Enter the annual rate: 4\n",
      "Enter the number of times the interest is compounded: 5\n",
      "Enter the number of years: 8\n",
      "The ammount accurred over 8.0 years is 89011.8301291625\n"
     ]
    }
   ],
   "source": [
    "import math\n",
    "P = float(input(\"Enter the Principal value deposited: \"))\n",
    "r = float(input(\"Enter the annual rate: \"))\n",
    "n = float(input(\"Enter the number of times the interest is compounded: \"))\n",
    "t = float(input(\"Enter the number of years: \"))\n",
    "A = P*(1 + (pow((r/n),(n*t))))\n",
    "print(\"The ammount accurred over\", t,\"years is\" , A)\n"
   ]
  },
  {
   "cell_type": "markdown",
   "id": "d8f7c829",
   "metadata": {},
   "source": [
    "# CHAPTER 3"
   ]
  },
  {
   "cell_type": "markdown",
   "id": "ed4c7dcc",
   "metadata": {},
   "source": [
    "## Algorithm Workbench"
   ]
  },
  {
   "cell_type": "code",
   "execution_count": 1,
   "id": "48eb3887",
   "metadata": {},
   "outputs": [
    {
     "name": "stdout",
     "output_type": "stream",
     "text": [
      "Enter x number: 34\n"
     ]
    }
   ],
   "source": [
    "x = int(input(\"Enter x number: \"))\n",
    "if(x>100):\n",
    "    y = 20\n",
    "    z = 40"
   ]
  },
  {
   "cell_type": "code",
   "execution_count": 2,
   "id": "6e42db98",
   "metadata": {},
   "outputs": [
    {
     "name": "stdout",
     "output_type": "stream",
     "text": [
      "Enter a number: 100\n"
     ]
    }
   ],
   "source": [
    "a = int(input(\"Enter a number: \"))\n",
    "if(a==100):\n",
    "    b = 10\n",
    "    c = 50"
   ]
  },
  {
   "cell_type": "code",
   "execution_count": 3,
   "id": "f3b9f8c7",
   "metadata": {},
   "outputs": [
    {
     "name": "stdout",
     "output_type": "stream",
     "text": [
      "Enter a number: 8\n"
     ]
    }
   ],
   "source": [
    "a = int(input(\"Enter a number: \"))\n",
    "if(x<10):\n",
    "    b = 0\n",
    "else:\n",
    "    b =99"
   ]
  },
  {
   "cell_type": "code",
   "execution_count": 4,
   "id": "de73e586",
   "metadata": {},
   "outputs": [
    {
     "name": "stdout",
     "output_type": "stream",
     "text": [
      "Your grade is A.\n"
     ]
    }
   ],
   "source": [
    "score = 200\n",
    "\n",
    "if score >= 70:\n",
    "    print('Your grade is A.')\n",
    "elif score >= 60:\n",
    "    print('Your grade is B.')\n",
    "elif score >= 50:\n",
    "    print('Your grade is C.')\n",
    "elif score >= 40:\n",
    "    print('Your grade is D.')\n",
    "else:\n",
    "    print('Your grade is F.')"
   ]
  },
  {
   "cell_type": "code",
   "execution_count": 5,
   "id": "235e637c",
   "metadata": {},
   "outputs": [
    {
     "name": "stdout",
     "output_type": "stream",
     "text": [
      "Enter amount 1: 23\n",
      "Enter amount 2: 34\n",
      "34.0 is greater\n"
     ]
    }
   ],
   "source": [
    "amount1 = float(input(\"Enter amount 1: \"))\n",
    "amount2 = float(input(\"Enter amount 2: \"))\n",
    "if(amount1 > 10) and (amount2 <100):\n",
    "    if(amount1>amount2):\n",
    "        print(amount1, \"is greater.\")\n",
    "    elif(amount2 > amount1):\n",
    "        print(amount2, \"is greater\")"
   ]
  },
  {
   "cell_type": "code",
   "execution_count": 7,
   "id": "1dab1ee6",
   "metadata": {},
   "outputs": [
    {
     "name": "stdout",
     "output_type": "stream",
     "text": [
      "Enter score: 23\n",
      "again = False\n"
     ]
    }
   ],
   "source": [
    "score = int(input(\"Enter score: \"))\n",
    "if(score>=40)and (score<=49):\n",
    "    print(\"again = True\")\n",
    "else:\n",
    "    print(\"again = False\")\n",
    "    "
   ]
  },
  {
   "cell_type": "code",
   "execution_count": 8,
   "id": "253e5de6",
   "metadata": {},
   "outputs": [
    {
     "name": "stdout",
     "output_type": "stream",
     "text": [
      "Enter score: 34\n",
      "Valid points\n"
     ]
    }
   ],
   "source": [
    "score = int(input(\"Enter score: \"))\n",
    "if(score<9)or (score>51):\n",
    "    print(\"Invalid points\")\n",
    "else:\n",
    "    print(\"Valid points\")\n",
    "    "
   ]
  },
  {
   "cell_type": "markdown",
   "id": "c189b9e5",
   "metadata": {},
   "source": [
    "## Programming Exercise"
   ]
  },
  {
   "cell_type": "code",
   "execution_count": 9,
   "id": "da303229",
   "metadata": {},
   "outputs": [
    {
     "name": "stdout",
     "output_type": "stream",
     "text": [
      "Enter the number: 34\n",
      "Positive\n",
      "Even\n"
     ]
    }
   ],
   "source": [
    "num = int(input(\"Enter the number: \"))\n",
    "if(num>0):\n",
    "    print(\"Positive\")\n",
    "elif(num<0):\n",
    "    print(\"Negative\")\n",
    "elif(num==0):\n",
    "    print(\"Zero\")\n",
    "if(num%2 == 0):\n",
    "    print(\"Even\")\n",
    "else:\n",
    "    print(\"Odd\")"
   ]
  },
  {
   "cell_type": "code",
   "execution_count": 10,
   "id": "09500f0e",
   "metadata": {},
   "outputs": [
    {
     "name": "stdout",
     "output_type": "stream",
     "text": [
      "Enter the length of first rectangle: 12\n",
      "Enter the width of first rectangle: 34\n",
      "Enter the length of second rectangle: 78\n",
      "Enter the width of second rectangle: 2\n",
      "rectangle 1 is greater in area\n"
     ]
    }
   ],
   "source": [
    "length1 = float(input(\"Enter the length of first rectangle: \"))\n",
    "width1 = float(input(\"Enter the width of first rectangle: \"))\n",
    "length2 = float(input(\"Enter the length of second rectangle: \"))\n",
    "width2 = float(input(\"Enter the width of second rectangle: \"))\n",
    "area1 = length1*width1\n",
    "area2 = length2*width2\n",
    "if(area1>area2):\n",
    "    print(\"rectangle 1 is greater in area\")\n",
    "elif(area1<area2):\n",
    "    print(\"rectangle 2 has greater area\")"
   ]
  },
  {
   "cell_type": "code",
   "execution_count": 11,
   "id": "09d82aee",
   "metadata": {},
   "outputs": [
    {
     "name": "stdout",
     "output_type": "stream",
     "text": [
      "Enter the month number between 1 to 12: 2\n",
      "This is the first quater\n"
     ]
    }
   ],
   "source": [
    "month = int(input(\"Enter the month number between 1 to 12: \"))\n",
    "if(month>=1 and month<=3):\n",
    "    print(\"This is the first quater\")\n",
    "elif(month>=4 and month<=6):\n",
    "    print(\"This is the second quater\")\n",
    "elif(month>=7 and month<=9):\n",
    "    print(\"This is the third quater\")\n",
    "elif(month>=10 and month<=12):\n",
    "    print(\"This is the fourth quater\")\n",
    "else:\n",
    "    print(\"Error! Invalid month number\")"
   ]
  },
  {
   "cell_type": "code",
   "execution_count": 12,
   "id": "b325ce28",
   "metadata": {},
   "outputs": [
    {
     "name": "stdout",
     "output_type": "stream",
     "text": [
      "Enter a number within the range of 1 through 10: 6\n",
      "The Roman numeral for 6 is: VI\n"
     ]
    }
   ],
   "source": [
    "number = int(input(\"Enter a number within the range of 1 through 10: \"))\n",
    "\n",
    "if 1 <= number <= 10:\n",
    "        if number == 1:\n",
    "            roman_numeral = 'I'\n",
    "        elif number == 2:\n",
    "            roman_numeral = 'II'\n",
    "        elif number == 3:\n",
    "            roman_numeral = 'III'\n",
    "        elif number == 4:\n",
    "            roman_numeral = 'IV'\n",
    "        elif number == 5:\n",
    "            roman_numeral = 'V'\n",
    "        elif number == 6:\n",
    "            roman_numeral = 'VI'\n",
    "        elif number == 7:\n",
    "            roman_numeral = 'VII'\n",
    "        elif number == 8:\n",
    "            roman_numeral = 'VIII'\n",
    "        elif number == 9:\n",
    "            roman_numeral = 'IX'\n",
    "        else:  # number == 10\n",
    "            roman_numeral = 'X'\n",
    "        print(f\"The Roman numeral for {number} is: {roman_numeral}\")\n",
    "else:\n",
    "        print(\"Error: Please enter a number within specified range.\")\n"
   ]
  },
  {
   "cell_type": "code",
   "execution_count": 13,
   "id": "87488dd4",
   "metadata": {},
   "outputs": [
    {
     "name": "stdout",
     "output_type": "stream",
     "text": [
      "Enter the mass: 3345\n",
      "Too heavy!\n"
     ]
    }
   ],
   "source": [
    "mass = float(input(\"Enter the mass: \"))\n",
    "weight = mass * 9.8\n",
    "\n",
    "if weight >500:\n",
    "    print(\"Too heavy!\")\n",
    "elif weight < 100:\n",
    "    print(\"Too light!\")"
   ]
  },
  {
   "cell_type": "code",
   "execution_count": 14,
   "id": "a852eabf",
   "metadata": {},
   "outputs": [
    {
     "name": "stdout",
     "output_type": "stream",
     "text": [
      "Enter a month number: 23\n",
      "Enter a day number: 3\n",
      "Enter two digit year: 26\n",
      "Tis NOT a magic day!\n"
     ]
    }
   ],
   "source": [
    "month = int(input(\"Enter a month number: \"))\n",
    "day = int(input(\"Enter a day number: \"))\n",
    "year = int(input(\"Enter two digit year: \"))\n",
    "if(month*day == year):\n",
    "    print(\"Tis a magic day!\")\n",
    "else:\n",
    "    print(\"Tis NOT a magic day!\")\n",
    "\n"
   ]
  },
  {
   "cell_type": "code",
   "execution_count": 15,
   "id": "661021e0",
   "metadata": {},
   "outputs": [
    {
     "name": "stdout",
     "output_type": "stream",
     "text": [
      "Enter points for Test 1 (out of 25): 24\n",
      "Enter points for Test 2 (out of 25): 17\n",
      "Enter points for Main Exam (out of 50): 30\n",
      "Total Points 71\n",
      "Grade: Credit\n"
     ]
    }
   ],
   "source": [
    "test1 = int(input(\"Enter points for Test 1 (out of 25): \"))\n",
    "test2 = int(input(\"Enter points for Test 2 (out of 25): \"))\n",
    "exam = int(input(\"Enter points for Main Exam (out of 50): \"))\n",
    "\n",
    "if 0 <= test1 <= 25 and 0 <= test2 <= 25 and 0 <= exam <= 50:\n",
    "    total_points = test1 + test2 + exam\n",
    "\n",
    "    if total_points >= 50 and exam >= 25:\n",
    "        if total_points > 80:\n",
    "            grade = \"Distinction\"\n",
    "        elif 60 <= total_points <= 80:\n",
    "            grade = \"Credit\"\n",
    "        else:\n",
    "                grade = \"Pass\"\n",
    "    else:\n",
    "        grade = \"Fail\"\n",
    "\n",
    "    print(\"Total Points\", total_points)\n",
    "    print(\"Grade:\" ,grade)\n",
    "else:\n",
    "    print(\"Error: Invalid points entered.\")\n"
   ]
  },
  {
   "cell_type": "code",
   "execution_count": 16,
   "id": "2a02e91d",
   "metadata": {},
   "outputs": [
    {
     "name": "stdout",
     "output_type": "stream",
     "text": [
      "Enter the number of expected guests: 34\n",
      "Enter the amount hotdogs each guest gets: 3\n",
      "You will need 10 packets of hotdogs\n",
      "You will need 12 buns.\n",
      "You will have 2 hotdogs left\n",
      "You will have 6 buns left\n"
     ]
    }
   ],
   "source": [
    "people = int(input(\"Enter the number of expected guests: \"))\n",
    "hdogs = int(input(\"Enter the amount hotdogs each guest gets: \"))\n",
    "total_hotdogs= people * hdogs\n",
    "\n",
    "print(\"You will need\",total_hotdogs//10 ,\"packets of hotdogs\")\n",
    "print(\"You will need\",total_hotdogs//8 ,\"buns.\")\n",
    "print(\"You will have\",total_hotdogs%10 , \"hotdogs left\")\n",
    "print(\"You will have\",total_hotdogs%8 , \"buns left\")\n"
   ]
  },
  {
   "cell_type": "code",
   "execution_count": 17,
   "id": "cb471bdc",
   "metadata": {},
   "outputs": [
    {
     "name": "stdout",
     "output_type": "stream",
     "text": [
      "Enter a pocket number (0 through 36): 32\n",
      "The pocket 32 is Red.\n"
     ]
    }
   ],
   "source": [
    "pocket_number = int(input(\"Enter a pocket number (0 through 36): \"))\n",
    "\n",
    "if 0 <= pocket_number <= 36:\n",
    "    if pocket_number == 0:\n",
    "        color = \"Green\"\n",
    "    elif 1 <= pocket_number <= 10 or 19 <= pocket_number <= 28:\n",
    "        if pocket_number % 2 == 1 :\n",
    "            color = \"Red\" \n",
    "        else:\n",
    "            color =\"Black\"\n",
    "    else:\n",
    "        if pocket_number % 2 == 1:\n",
    "             color = \"Black\" \n",
    "        else:\n",
    "            color = \"Red\"\n",
    "\n",
    "    print(f\"The pocket {pocket_number} is {color}.\")\n",
    "else:\n",
    "    print(\"Error: Please enter a number in range.\")"
   ]
  },
  {
   "cell_type": "code",
   "execution_count": 18,
   "id": "86e6ad0d",
   "metadata": {},
   "outputs": [
    {
     "name": "stdout",
     "output_type": "stream",
     "text": [
      "Enter the no of pennies: 12\n",
      "Enter the no of nickels: 23\n",
      "Enter the no of dimes: 33\n",
      "Enter the no of quarters: 78\n",
      "Sorry, the amount entered ($24.07) is more than one dollar.\n"
     ]
    }
   ],
   "source": [
    "penny = 0.01\n",
    "nickel = 0.05\n",
    "dime = 0.10\n",
    "quater = 0.25\n",
    "\n",
    "upennies = int(input(\"Enter the no of pennies: \"))\n",
    "unickels = int(input(\"Enter the no of nickels: \"))\n",
    "udimes = int(input(\"Enter the no of dimes: \"))\n",
    "uquarters = int(input(\"Enter the no of quarters: \"))\n",
    "\n",
    "total_value = (upennies * penny) + (unickels * nickel) + (udimes * dime) + (uquarters * quater)\n",
    "\n",
    "if total_value == 1.00:\n",
    "    print(\"Congratulations! You've won the game.\")\n",
    "elif total_value > 1.00:\n",
    "    print(f\"Sorry, the amount entered (${total_value:.2f}) is more than one dollar.\")\n",
    "else:\n",
    "    print(f\"Sorry, the amount entered (${total_value:.2f}) is less than one dollar.\")"
   ]
  },
  {
   "cell_type": "code",
   "execution_count": 19,
   "id": "fa23461c",
   "metadata": {},
   "outputs": [
    {
     "name": "stdout",
     "output_type": "stream",
     "text": [
      "Enter the number of books you have purchased: 12\n",
      "You have purchased 12 books so you get 60 points!\n"
     ]
    }
   ],
   "source": [
    " book_number = int(input(\"Enter the number of books you have purchased: \"))\n",
    "if book_number == 0:\n",
    "    points = 0\n",
    "elif book_number == 2:\n",
    "    points = 5\n",
    "elif book_number == 4:\n",
    "    points = 15\n",
    "elif book_number == 6:\n",
    "    points = 30\n",
    "elif book_number >= 8:\n",
    "    points = 60\n",
    "\n",
    "print(f\"You have purchased {book_number} books so you get {points} points!\")\n"
   ]
  },
  {
   "cell_type": "code",
   "execution_count": 20,
   "id": "75f5fe29",
   "metadata": {},
   "outputs": [
    {
     "name": "stdout",
     "output_type": "stream",
     "text": [
      "Enter the number of packages purchased: 12\n",
      "Discount Amount: $118.80\n",
      "Total after Discount: $1069.20\n"
     ]
    }
   ],
   "source": [
    "price = 99\n",
    "\n",
    "quantity_purchased = int(input(\"Enter the number of packages purchased: \"))\n",
    "\n",
    "total_cost = quantity_purchased * price\n",
    "\n",
    "if 10 <= quantity_purchased <= 19:\n",
    "    discount = 0.10*total_cost\n",
    "elif 20 <= quantity_purchased <= 49:\n",
    "    discount = 0.20*total_cost\n",
    "elif 50 <= quantity_purchased <= 99:\n",
    "    discount = 0.30*total_cost\n",
    "elif quantity_purchased >= 100:\n",
    "    discount = 0.40*total_cost\n",
    "else:\n",
    "    discount = 0  \n",
    "    \n",
    "final_amount = total_cost - discount\n",
    "\n",
    "\n",
    "print(f\"Discount Amount: ${discount:.2f}\")\n",
    "print(f\"Total after Discount: ${final_amount:.2f}\")"
   ]
  },
  {
   "cell_type": "code",
   "execution_count": 21,
   "id": "5da257a2",
   "metadata": {},
   "outputs": [
    {
     "name": "stdout",
     "output_type": "stream",
     "text": [
      "Enter the weight of the package in pounds: 12\n",
      "\n",
      "Shipping Charges of a 12.00-pound package is $57.00\n"
     ]
    }
   ],
   "source": [
    "weight = float(input(\"Enter the weight of the package in pounds: \"))\n",
    "\n",
    "\n",
    "if weight <= 2:\n",
    "    shipping = 1.50 * weight\n",
    "elif weight <= 6:\n",
    "    shipping = 3.00 * weight\n",
    "elif weight <= 10:\n",
    "    shipping = 4.00 * weight\n",
    "else:\n",
    "    shipping = 4.75 * weight\n",
    "\n",
    "print(f\"\\nShipping Charges of a {weight:.2f}-pound package is ${shipping:.2f}\")"
   ]
  },
  {
   "cell_type": "code",
   "execution_count": 22,
   "id": "50937d01",
   "metadata": {},
   "outputs": [
    {
     "name": "stdout",
     "output_type": "stream",
     "text": [
      "Enter your weight in pounds: 23\n",
      "Enter your height in inches: 12\n",
      "\n",
      "Your Body Mass Index (BMI) is: 112.28\n",
      "You are considered overweight.\n"
     ]
    }
   ],
   "source": [
    "weight = float(input(\"Enter your weight in pounds: \"))\n",
    "height = float(input(\"Enter your height in inches: \"))\n",
    "\n",
    "bmi = (weight * 703) / (height ** 2)\n",
    "\n",
    "print(f\"\\nYour Body Mass Index (BMI) is: {bmi:.2f}\")\n",
    "\n",
    "if 18.5 <= bmi <= 25:\n",
    "    print(\"Your weight is considered optimal.\")\n",
    "elif bmi < 18.5:\n",
    "    print(\"You are considered underweight.\")\n",
    "else:\n",
    "    print(\"You are considered overweight.\")"
   ]
  },
  {
   "cell_type": "code",
   "execution_count": 25,
   "id": "066c2ad4",
   "metadata": {},
   "outputs": [
    {
     "name": "stdout",
     "output_type": "stream",
     "text": [
      "Enter the number of seconds: 12345678880\n",
      "\n",
      "12345678880 seconds is equivalent to:\n",
      "Days: 142889\n",
      "Hours: 19\n",
      "Minutes: 14\n",
      "Seconds: 40\n"
     ]
    }
   ],
   "source": [
    "total_seconds = int(input(\"Enter the number of seconds: \"))\n",
    "\n",
    "days = total_seconds // 86400\n",
    "remaining_seconds = total_seconds % 86400\n",
    "hours = remaining_seconds // 3600\n",
    "remaining_seconds %= 3600\n",
    "minutes = remaining_seconds // 60\n",
    "seconds = remaining_seconds % 60\n",
    "\n",
    "print(f\"\\n{total_seconds} seconds is equivalent to:\")\n",
    "print(f\"Days: {days}\")\n",
    "print(f\"Hours: {hours}\")\n",
    "print(f\"Minutes: {minutes}\")\n",
    "print(f\"Seconds: {seconds}\")"
   ]
  },
  {
   "cell_type": "code",
   "execution_count": 26,
   "id": "d6343591",
   "metadata": {},
   "outputs": [
    {
     "name": "stdout",
     "output_type": "stream",
     "text": [
      "Enter a year: 2024\n",
      "In the year 2024, February has 29 days.\n"
     ]
    }
   ],
   "source": [
    "year = int(input(\"Enter a year: \"))\n",
    "\n",
    "if (year % 100 == 0 and year % 400 == 0) or (year % 100 != 0 and year % 4 == 0):\n",
    "    days = 29\n",
    "else:\n",
    "    days = 28\n",
    "\n",
    "print(f\"In the year {year}, February has {days} days.\")"
   ]
  },
  {
   "cell_type": "code",
   "execution_count": 28,
   "id": "eb8d8e19",
   "metadata": {},
   "outputs": [
    {
     "name": "stdout",
     "output_type": "stream",
     "text": [
      "Reboot the computer and try to connect: \n",
      "Did that fix the problem? no\n",
      "Reboot the router and try to connect.\n",
      "Did that solve the problem? no\n",
      "Make sure the cable between the router and modem are plugged in firmly.\n",
      "Did that fix the problem? no\n",
      "Move the router tpo a new location and try to reconnect.\n",
      "Did that fix the problem? no\n",
      "Get a new router!\n"
     ]
    }
   ],
   "source": [
    "print(\"Reboot the computer and try to connect: \")\n",
    "ans1 = input(\"Did that fix the problem? \").lower()\n",
    "if ans1 == \"no\":\n",
    "    print(\"Reboot the router and try to connect.\")\n",
    "    ans2 = input(\"Did that solve the problem? \").lower()\n",
    "    if ans2 == \"no\":\n",
    "        print(\"Make sure the cable between the router and modem are plugged in firmly.\")\n",
    "        ans3 = input(\"Did that fix the problem? \").lower()\n",
    "        if ans3 == \"no\":\n",
    "            print(\"Move the router tpo a new location and try to reconnect.\")\n",
    "            ans4 = input(\"Did that fix the problem? \").lower()\n",
    "            if ans4 == \"no\":\n",
    "                print(\"Get a new router!\")\n",
    "            else:\n",
    "                print(\"Wheww! Bless God!\")\n",
    "        else:\n",
    "            print(\"Bless God\")\n",
    "    else:\n",
    "        print(\"Bless God\")\n",
    "else: \n",
    "    print(\"Bless God\")"
   ]
  },
  {
   "cell_type": "code",
   "execution_count": null,
   "id": "18e7f4ae",
   "metadata": {},
   "outputs": [],
   "source": []
  },
  {
   "cell_type": "markdown",
   "id": "963334a4",
   "metadata": {},
   "source": [
    "# CHAPTER 4"
   ]
  },
  {
   "cell_type": "markdown",
   "id": "09e0bb4e",
   "metadata": {},
   "source": [
    "## algorithm workbench"
   ]
  },
  {
   "cell_type": "code",
   "execution_count": 1,
   "id": "6e9b3943",
   "metadata": {},
   "outputs": [
    {
     "name": "stdout",
     "output_type": "stream",
     "text": [
      "Enter a number: 8\n",
      "Product: 80.0\n",
      "Enter another number: 3\n",
      "Product: 30.0\n",
      "Enter another number: 10\n"
     ]
    }
   ],
   "source": [
    "number = float(input(\"Enter a number: \"))\n",
    "product = number * 10\n",
    "\n",
    "while product < 100:\n",
    "    print(f\"Product: {product}\")\n",
    "    number = float(input(\"Enter another number: \"))\n",
    "    product = number * 10"
   ]
  },
  {
   "cell_type": "code",
   "execution_count": 2,
   "id": "31f927d5",
   "metadata": {},
   "outputs": [
    {
     "name": "stdout",
     "output_type": "stream",
     "text": [
      "Enter the first number: 2\n",
      "Enter the second number: 3\n",
      "Sum: 5.0\n",
      "Do you want to perform the operation again? (yes/no): no\n"
     ]
    }
   ],
   "source": [
    "while True:\n",
    "    num1 = float(input(\"Enter the first number: \"))\n",
    "    num2 = float(input(\"Enter the second number: \"))\n",
    "    total = num1 + num2\n",
    "    print(f\"Sum: {total}\")\n",
    "\n",
    "    repeat = input(\"Do you want to perform the operation again? (yes/no): \")\n",
    "    if repeat.lower() != 'yes':\n",
    "        break"
   ]
  },
  {
   "cell_type": "code",
   "execution_count": 3,
   "id": "c4dca508",
   "metadata": {},
   "outputs": [
    {
     "name": "stdout",
     "output_type": "stream",
     "text": [
      "1\n",
      "3\n",
      "5\n",
      "7\n",
      "9\n",
      "11\n",
      "13\n",
      "15\n",
      "17\n",
      "19\n",
      "21\n",
      "23\n",
      "25\n",
      "27\n",
      "29\n",
      "31\n",
      "33\n",
      "35\n",
      "37\n",
      "39\n",
      "41\n",
      "43\n",
      "45\n",
      "47\n",
      "49\n",
      "51\n",
      "53\n",
      "55\n",
      "57\n",
      "59\n",
      "61\n",
      "63\n",
      "65\n",
      "67\n",
      "69\n",
      "71\n",
      "73\n",
      "75\n",
      "77\n",
      "79\n",
      "81\n",
      "83\n",
      "85\n",
      "87\n",
      "89\n",
      "91\n",
      "93\n",
      "95\n",
      "97\n",
      "99\n"
     ]
    }
   ],
   "source": [
    "for num in range(1, 101, 2):\n",
    "    print(num)"
   ]
  },
  {
   "cell_type": "code",
   "execution_count": 4,
   "id": "9f52c0d2",
   "metadata": {},
   "outputs": [
    {
     "name": "stdout",
     "output_type": "stream",
     "text": [
      "Enter a word: gift\n",
      "Text: gift\n",
      "Enter a word: icecreamandfish\n",
      "Text: gifticecreamandfish\n"
     ]
    }
   ],
   "source": [
    "text = \"\"\n",
    "while len(text) < 10:\n",
    "    word = input(\"Enter a word: \")\n",
    "    text += word\n",
    "    print(f\"Text: {text}\")"
   ]
  },
  {
   "cell_type": "code",
   "execution_count": 28,
   "id": "29ba2497",
   "metadata": {},
   "outputs": [
    {
     "name": "stdout",
     "output_type": "stream",
     "text": [
      "The total of the series is: 93.8446\n"
     ]
    }
   ],
   "source": [
    "total = 0\n",
    "\n",
    "for i in range(1, 31):\n",
    "    total += i / (31 - i)\n",
    "\n",
    "print(f\"The total of the series is: {total:.4f}\")\n"
   ]
  },
  {
   "cell_type": "code",
   "execution_count": 10,
   "id": "6bc53bf5",
   "metadata": {},
   "outputs": [
    {
     "name": "stdout",
     "output_type": "stream",
     "text": [
      "enter x: 10\n"
     ]
    }
   ],
   "source": [
    "x=int(input(\"enter x: \"))\n",
    "x += 1\n",
    "x *= 2\n",
    "x /= 10\n",
    "x -= 100\n"
   ]
  },
  {
   "cell_type": "code",
   "execution_count": 11,
   "id": "8285a911",
   "metadata": {},
   "outputs": [
    {
     "name": "stdout",
     "output_type": "stream",
     "text": [
      "1 * 1 = 1\n",
      "1 * 2 = 2\n",
      "1 * 3 = 3\n",
      "1 * 4 = 4\n",
      "1 * 5 = 5\n",
      "1 * 6 = 6\n",
      "1 * 7 = 7\n",
      "1 * 8 = 8\n",
      "1 * 9 = 9\n",
      "1 * 10 = 10\n",
      "2 * 1 = 2\n",
      "2 * 2 = 4\n",
      "2 * 3 = 6\n",
      "2 * 4 = 8\n",
      "2 * 5 = 10\n",
      "2 * 6 = 12\n",
      "2 * 7 = 14\n",
      "2 * 8 = 16\n",
      "2 * 9 = 18\n",
      "2 * 10 = 20\n",
      "3 * 1 = 3\n",
      "3 * 2 = 6\n",
      "3 * 3 = 9\n",
      "3 * 4 = 12\n",
      "3 * 5 = 15\n",
      "3 * 6 = 18\n",
      "3 * 7 = 21\n",
      "3 * 8 = 24\n",
      "3 * 9 = 27\n",
      "3 * 10 = 30\n",
      "4 * 1 = 4\n",
      "4 * 2 = 8\n",
      "4 * 3 = 12\n",
      "4 * 4 = 16\n",
      "4 * 5 = 20\n",
      "4 * 6 = 24\n",
      "4 * 7 = 28\n",
      "4 * 8 = 32\n",
      "4 * 9 = 36\n",
      "4 * 10 = 40\n",
      "5 * 1 = 5\n",
      "5 * 2 = 10\n",
      "5 * 3 = 15\n",
      "5 * 4 = 20\n",
      "5 * 5 = 25\n",
      "5 * 6 = 30\n",
      "5 * 7 = 35\n",
      "5 * 8 = 40\n",
      "5 * 9 = 45\n",
      "5 * 10 = 50\n",
      "6 * 1 = 6\n",
      "6 * 2 = 12\n",
      "6 * 3 = 18\n",
      "6 * 4 = 24\n",
      "6 * 5 = 30\n",
      "6 * 6 = 36\n",
      "6 * 7 = 42\n",
      "6 * 8 = 48\n",
      "6 * 9 = 54\n",
      "6 * 10 = 60\n",
      "7 * 1 = 7\n",
      "7 * 2 = 14\n",
      "7 * 3 = 21\n",
      "7 * 4 = 28\n",
      "7 * 5 = 35\n",
      "7 * 6 = 42\n",
      "7 * 7 = 49\n",
      "7 * 8 = 56\n",
      "7 * 9 = 63\n",
      "7 * 10 = 70\n",
      "8 * 1 = 8\n",
      "8 * 2 = 16\n",
      "8 * 3 = 24\n",
      "8 * 4 = 32\n",
      "8 * 5 = 40\n",
      "8 * 6 = 48\n",
      "8 * 7 = 56\n",
      "8 * 8 = 64\n",
      "8 * 9 = 72\n",
      "8 * 10 = 80\n",
      "9 * 1 = 9\n",
      "9 * 2 = 18\n",
      "9 * 3 = 27\n",
      "9 * 4 = 36\n",
      "9 * 5 = 45\n",
      "9 * 6 = 54\n",
      "9 * 7 = 63\n",
      "9 * 8 = 72\n",
      "9 * 9 = 81\n",
      "9 * 10 = 90\n",
      "10 * 1 = 10\n",
      "10 * 2 = 20\n",
      "10 * 3 = 30\n",
      "10 * 4 = 40\n",
      "10 * 5 = 50\n",
      "10 * 6 = 60\n",
      "10 * 7 = 70\n",
      "10 * 8 = 80\n",
      "10 * 9 = 90\n",
      "10 * 10 = 100\n"
     ]
    }
   ],
   "source": [
    "for i in range(1, 11):\n",
    "    for j in range(1, 11):\n",
    "        print(f\"{i} * {j} = {i*j}\")"
   ]
  },
  {
   "cell_type": "code",
   "execution_count": 13,
   "id": "7eb216e2",
   "metadata": {},
   "outputs": [
    {
     "name": "stdout",
     "output_type": "stream",
     "text": [
      "Enter a positive nonzero number: -4\n",
      "Enter a positive nonzero number: 0\n",
      "Enter a positive nonzero number: 4\n"
     ]
    }
   ],
   "source": [
    "while True:\n",
    "    number = float(input(\"Enter a positive nonzero number: \"))\n",
    "    if number > 0:\n",
    "        break"
   ]
  },
  {
   "cell_type": "code",
   "execution_count": 14,
   "id": "7516d3b8",
   "metadata": {},
   "outputs": [
    {
     "name": "stdout",
     "output_type": "stream",
     "text": [
      "Enter a number between 1 and 100: -90\n",
      "Enter a number between 1 and 100: 34\n"
     ]
    }
   ],
   "source": [
    "while True:\n",
    "    number = int(input(\"Enter a number between 1 and 100: \"))\n",
    "    if 1 <= number <= 100:\n",
    "        break"
   ]
  },
  {
   "cell_type": "markdown",
   "id": "f26ece0a",
   "metadata": {},
   "source": [
    "## programming exercises"
   ]
  },
  {
   "cell_type": "code",
   "execution_count": 15,
   "id": "f86eaeee",
   "metadata": {},
   "outputs": [
    {
     "name": "stdout",
     "output_type": "stream",
     "text": [
      "Enter the number of bugs collected on day 1: 2\n",
      "Enter the number of bugs collected on day 2: 3\n",
      "Enter the number of bugs collected on day 3: 4\n",
      "Enter the number of bugs collected on day 4: 5\n",
      "Enter the number of bugs collected on day 5: 6\n",
      "Total bugs collected in 5 days: 20\n"
     ]
    }
   ],
   "source": [
    "total_bugs = 0\n",
    "\n",
    "for day in range(1, 6):\n",
    "    bugs_collected = int(input(f\"Enter the number of bugs collected on day {day}: \"))\n",
    "    total_bugs += bugs_collected\n",
    "\n",
    "print(f\"Total bugs collected in 5 days: {total_bugs}\")"
   ]
  },
  {
   "cell_type": "code",
   "execution_count": 16,
   "id": "268b6881",
   "metadata": {},
   "outputs": [
    {
     "name": "stdout",
     "output_type": "stream",
     "text": [
      "After 10 minutes, you burned 42.0 calories.\n",
      "After 15 minutes, you burned 63.0 calories.\n",
      "After 20 minutes, you burned 84.0 calories.\n",
      "After 25 minutes, you burned 105.0 calories.\n",
      "After 30 minutes, you burned 126.0 calories.\n"
     ]
    }
   ],
   "source": [
    "calories_burned_per_minute = 4.2\n",
    "\n",
    "for minutes in [10, 15, 20, 25, 30]:\n",
    "    calories_burned = calories_burned_per_minute * minutes\n",
    "    print(f\"After {minutes} minutes, you burned {calories_burned} calories.\")"
   ]
  },
  {
   "cell_type": "code",
   "execution_count": 17,
   "id": "32036164",
   "metadata": {},
   "outputs": [
    {
     "name": "stdout",
     "output_type": "stream",
     "text": [
      "Enter the number of laps: 2\n",
      "Enter the lap time for lap 1 (in seconds): 2.34\n",
      "Enter the lap time for lap 2 (in seconds): 4.56\n",
      "Fastest Lap: 2.34 seconds\n",
      "Slowest Lap: 4.56 seconds\n",
      "Average Lap Time: 3.4499999999999997 seconds\n"
     ]
    }
   ],
   "source": [
    "num_laps = int(input(\"Enter the number of laps: \"))\n",
    "\n",
    "fastest_lap = float('inf')\n",
    "slowest_lap = 0\n",
    "total_time = 0\n",
    "\n",
    "for lap in range(1, num_laps + 1):\n",
    "    lap_time = float(input(f\"Enter the lap time for lap {lap} (in seconds): \"))\n",
    "    total_time += lap_time\n",
    "\n",
    "    if lap_time < fastest_lap:\n",
    "        fastest_lap = lap_time\n",
    "\n",
    "    if lap_time > slowest_lap:\n",
    "        slowest_lap = lap_time\n",
    "\n",
    "average_lap_time = total_time / num_laps\n",
    "\n",
    "print(f\"Fastest Lap: {fastest_lap} seconds\")\n",
    "print(f\"Slowest Lap: {slowest_lap} seconds\")\n",
    "print(f\"Average Lap Time: {average_lap_time} seconds\")"
   ]
  },
  {
   "cell_type": "code",
   "execution_count": 29,
   "id": "3f42d72e",
   "metadata": {},
   "outputs": [
    {
     "name": "stdout",
     "output_type": "stream",
     "text": [
      "What is the speed of the vehicle in mph? 40\n",
      "How many hours has it traveled? 3\n",
      "Hour   Distance Traveled\n",
      "------------------------\n",
      " 1     40.0\n",
      " 2     80.0\n",
      " 3     120.0\n"
     ]
    }
   ],
   "source": [
    "\n",
    "speed = float(input(\"What is the speed of the vehicle in mph? \"))\n",
    "num_hours = int(input(\"How many hours has it traveled? \"))\n",
    "\n",
    "print(\"Hour   Distance Traveled\")\n",
    "print(\"------------------------\")\n",
    "\n",
    "for hour in range(1, num_hours + 1):\n",
    "    distance = speed * hour\n",
    "    print(f\"{hour:2}     {distance}\")"
   ]
  },
  {
   "cell_type": "code",
   "execution_count": 18,
   "id": "778bb982",
   "metadata": {},
   "outputs": [
    {
     "name": "stdout",
     "output_type": "stream",
     "text": [
      "Enter the number of years: 2\n",
      "Enter inches of rainfall for Year 1, Month 1: 2\n",
      "Enter inches of rainfall for Year 1, Month 2: 3\n",
      "Enter inches of rainfall for Year 1, Month 3: 3\n",
      "Enter inches of rainfall for Year 1, Month 4: 4\n",
      "Enter inches of rainfall for Year 1, Month 5: 5\n",
      "Enter inches of rainfall for Year 1, Month 6: 6\n",
      "Enter inches of rainfall for Year 1, Month 7: 2\n",
      "Enter inches of rainfall for Year 1, Month 8: 3\n",
      "Enter inches of rainfall for Year 1, Month 9: 4\n",
      "Enter inches of rainfall for Year 1, Month 10: 5\n",
      "Enter inches of rainfall for Year 1, Month 11: 2\n",
      "Enter inches of rainfall for Year 1, Month 12: 3\n",
      "Enter inches of rainfall for Year 2, Month 1: 4\n",
      "Enter inches of rainfall for Year 2, Month 2: 5\n",
      "Enter inches of rainfall for Year 2, Month 3: 5\n",
      "Enter inches of rainfall for Year 2, Month 4: 2\n",
      "Enter inches of rainfall for Year 2, Month 5: 2\n",
      "Enter inches of rainfall for Year 2, Month 6: 3\n",
      "Enter inches of rainfall for Year 2, Month 7: 4\n",
      "Enter inches of rainfall for Year 2, Month 8: 5\n",
      "Enter inches of rainfall for Year 2, Month 9: 4\n",
      "Enter inches of rainfall for Year 2, Month 10: 2\n",
      "Enter inches of rainfall for Year 2, Month 11: 3\n",
      "Enter inches of rainfall for Year 2, Month 12: 1\n",
      "Number of Months: 24\n",
      "Total Inches of Rainfall: 82.0\n",
      "Average Rainfall per Month: 3.42 inches\n"
     ]
    }
   ],
   "source": [
    "total_months = 0\n",
    "total_rainfall = 0\n",
    "\n",
    "num_years = int(input(\"Enter the number of years: \"))\n",
    "\n",
    "for year in range(1, num_years + 1):\n",
    "    for month in range(1, 13):\n",
    "        rainfall = float(input(f\"Enter inches of rainfall for Year {year}, Month {month}: \"))\n",
    "        total_rainfall += rainfall\n",
    "        total_months += 1\n",
    "\n",
    "average_rainfall = total_rainfall / total_months\n",
    "\n",
    "print(f\"Number of Months: {total_months}\")\n",
    "print(f\"Total Inches of Rainfall: {total_rainfall}\")\n",
    "print(f\"Average Rainfall per Month: {average_rainfall:.2f} inches\")\n"
   ]
  },
  {
   "cell_type": "code",
   "execution_count": 19,
   "id": "17b6f768",
   "metadata": {},
   "outputs": [
    {
     "name": "stdout",
     "output_type": "stream",
     "text": [
      "Miles   Kilometers\n",
      "   10   16.09\n",
      "   20   32.19\n",
      "   30   48.28\n",
      "   40   64.37\n",
      "   50   80.47\n",
      "   60   96.56\n",
      "   70   112.65\n",
      "   80   128.75\n"
     ]
    }
   ],
   "source": [
    "miles_increment = 10\n",
    "miles_start = 10\n",
    "miles_end = 80\n",
    "\n",
    "print(\"Miles   Kilometers\")\n",
    "\n",
    "for miles in range(miles_start, miles_end + 1, miles_increment):\n",
    "    kilometers = miles * 1.60934\n",
    "    print(f\"{miles:5}   {kilometers:.2f}\")\n"
   ]
  },
  {
   "cell_type": "code",
   "execution_count": null,
   "id": "71887922",
   "metadata": {},
   "outputs": [],
   "source": [
    "num_days = int(input(\"Enter the number of days: \"))\n",
    "total_pay = 0.01\n",
    "\n",
    "print(\"Day     Salary\")\n",
    "print(\"----------------\")\n",
    "\n",
    "for day in range(2, num_days + 1):\n",
    "    total_pay += 0.01 * 2**(day - 1)\n",
    "    print(f\"{day:2}      ${total_pay:.2f}\")\n"
   ]
  },
  {
   "cell_type": "code",
   "execution_count": 20,
   "id": "5a531a54",
   "metadata": {},
   "outputs": [
    {
     "name": "stdout",
     "output_type": "stream",
     "text": [
      "Enter a word (press Enter to end): gift\n",
      "Enter a word (press Enter to end): giuu\n",
      "Enter a word (press Enter to end): \n",
      "Average Word Length: 4\n"
     ]
    }
   ],
   "source": [
    "total_length = 0\n",
    "total_words = 0\n",
    "\n",
    "while True:\n",
    "    word = input(\"Enter a word (press Enter to end): \")\n",
    "    if not word:\n",
    "        break\n",
    "    total_length += len(word)\n",
    "    total_words += 1\n",
    "\n",
    "average_length = round(total_length / total_words)\n",
    "\n",
    "print(f\"Average Word Length: {average_length}\")\n"
   ]
  },
  {
   "cell_type": "code",
   "execution_count": 21,
   "id": "876a0760",
   "metadata": {},
   "outputs": [
    {
     "name": "stdout",
     "output_type": "stream",
     "text": [
      "Year    Ocean Rise (mm)\n",
      "------------------------\n",
      " 1       1.60\n",
      " 2       3.20\n",
      " 3       4.80\n",
      " 4       6.40\n",
      " 5       8.00\n",
      " 6       9.60\n",
      " 7       11.20\n",
      " 8       12.80\n",
      " 9       14.40\n",
      "10       16.00\n",
      "11       17.60\n",
      "12       19.20\n",
      "13       20.80\n",
      "14       22.40\n",
      "15       24.00\n",
      "16       25.60\n",
      "17       27.20\n",
      "18       28.80\n",
      "19       30.40\n",
      "20       32.00\n",
      "21       33.60\n",
      "22       35.20\n",
      "23       36.80\n",
      "24       38.40\n",
      "25       40.00\n"
     ]
    }
   ],
   "source": [
    "ocean_rise_rate = 1.6\n",
    "num_years = 25\n",
    "\n",
    "print(\"Year    Ocean Rise (mm)\")\n",
    "print(\"------------------------\")\n",
    "\n",
    "for year in range(1, num_years + 1):\n",
    "    ocean_rise = year * ocean_rise_rate\n",
    "    print(f\"{year:2}       {ocean_rise:.2f}\")\n"
   ]
  },
  {
   "cell_type": "code",
   "execution_count": 22,
   "id": "40025a82",
   "metadata": {},
   "outputs": [
    {
     "name": "stdout",
     "output_type": "stream",
     "text": [
      "Year   Tuition\n",
      "----------------\n",
      " 1    $8240.00\n",
      " 2    $8487.20\n",
      " 3    $8741.82\n",
      " 4    $9004.07\n",
      " 5    $9274.19\n"
     ]
    }
   ],
   "source": [
    "tuition = 8000\n",
    "annual_increase = 0.03\n",
    "\n",
    "print(\"Year   Tuition\")\n",
    "print(\"----------------\")\n",
    "\n",
    "for year in range(1, 6):\n",
    "    tuition += tuition * annual_increase\n",
    "    print(f\"{year:2}    ${tuition:.2f}\")\n"
   ]
  },
  {
   "cell_type": "code",
   "execution_count": 23,
   "id": "9fc64c56",
   "metadata": {},
   "outputs": [
    {
     "name": "stdout",
     "output_type": "stream",
     "text": [
      "Enter hours slept on day 1: 4\n",
      "Enter hours slept on day 2: 8\n",
      "Enter hours slept on day 3: 6\n",
      "Enter hours slept on day 4: 9\n",
      "Enter hours slept on day 5: 8\n",
      "Enter hours slept on day 6: 10\n",
      "Enter hours slept on day 7: 2\n",
      "No sleep debt. Jealous!\n"
     ]
    }
   ],
   "source": [
    "desirable_sleep = 8\n",
    "total_sleep = 0\n",
    "\n",
    "for day in range(1, 8):\n",
    "    hours_slept = float(input(f\"Enter hours slept on day {day}: \"))\n",
    "    total_sleep += hours_slept\n",
    "\n",
    "sleep_debt = total_sleep - (desirable_sleep * 7)\n",
    "\n",
    "if sleep_debt > 0:\n",
    "    print(f\"Sleep Debt: {sleep_debt:.2f} hours\")\n",
    "else:\n",
    "    print(\"No sleep debt. Jealous!\")\n"
   ]
  },
  {
   "cell_type": "code",
   "execution_count": 24,
   "id": "121322b0",
   "metadata": {},
   "outputs": [
    {
     "name": "stdout",
     "output_type": "stream",
     "text": [
      "Enter a nonnegative integer: 4\n",
      "The factorial of 4 is 24\n"
     ]
    }
   ],
   "source": [
    "n = int(input(\"Enter a nonnegative integer: \"))\n",
    "factorial = 1\n",
    "\n",
    "for i in range(1, n + 1):\n",
    "    factorial *= i\n",
    "\n",
    "print(f\"The factorial of {n} is {factorial}\")\n"
   ]
  },
  {
   "cell_type": "code",
   "execution_count": 25,
   "id": "54399452",
   "metadata": {},
   "outputs": [
    {
     "name": "stdout",
     "output_type": "stream",
     "text": [
      "Enter starting number of organisms: 2\n",
      "Enter average daily increase percentage: 30\n",
      "Enter number of days to multiply: 10\n",
      "Day   Approximate Population\n",
      " 1    2.60000\n",
      " 2    3.38000\n",
      " 3    4.39400\n",
      " 4    5.71220\n",
      " 5    7.42586\n",
      " 6    9.65362\n",
      " 7    12.54970\n",
      " 8    16.31461\n",
      " 9    21.20900\n",
      "10    27.57170\n"
     ]
    }
   ],
   "source": [
    "starting_organisms = int(input(\"Enter starting number of organisms: \"))\n",
    "daily_increase_percentage = float(input(\"Enter average daily increase percentage: \"))\n",
    "num_days = int(input(\"Enter number of days to multiply: \"))\n",
    "\n",
    "print(\"Day   Approximate Population\")\n",
    "\n",
    "for day in range(1, num_days + 1):\n",
    "    population = starting_organisms * (1 + daily_increase_percentage / 100) ** day\n",
    "    print(f\"{day:2}    {population:.5f}\")\n"
   ]
  },
  {
   "cell_type": "code",
   "execution_count": 26,
   "id": "30df27b5",
   "metadata": {},
   "outputs": [
    {
     "name": "stdout",
     "output_type": "stream",
     "text": [
      "*******\n",
      "******\n",
      "*****\n",
      "****\n",
      "***\n",
      "**\n",
      "*\n"
     ]
    }
   ],
   "source": [
    "for i in range(7, 0, -1):\n",
    "    for j in range(i):\n",
    "        print('*', end='')\n",
    "    print()"
   ]
  },
  {
   "cell_type": "code",
   "execution_count": 27,
   "id": "bf00eac2",
   "metadata": {},
   "outputs": [
    {
     "name": "stdout",
     "output_type": "stream",
     "text": [
      "##\n",
      "# #\n",
      "#  #\n",
      "#   #\n",
      "#    #\n",
      "#     #\n"
     ]
    }
   ],
   "source": [
    "for i in range(6):\n",
    "    print('#', end='')\n",
    "    for j in range(i):\n",
    "        print(' ', end='')\n",
    "    print('#')"
   ]
  },
  {
   "cell_type": "markdown",
   "id": "976d7ffd",
   "metadata": {},
   "source": [
    "# CHAPTER 5"
   ]
  },
  {
   "cell_type": "markdown",
   "id": "8a7ec55d",
   "metadata": {},
   "source": [
    "## Algorithm workbench"
   ]
  },
  {
   "cell_type": "code",
   "execution_count": 30,
   "id": "df32a632",
   "metadata": {},
   "outputs": [
    {
     "name": "stdout",
     "output_type": "stream",
     "text": [
      "Enter your text: hi\n"
     ]
    },
    {
     "data": {
      "text/plain": [
       "'HI!'"
      ]
     },
     "execution_count": 30,
     "metadata": {},
     "output_type": "execute_result"
    }
   ],
   "source": [
    "def shout(shout_text):\n",
    "    shout_text = str(input(\"Enter your text: \"))\n",
    "    return shout_text.upper() +\"!\"\n",
    "shout(\"\")\n"
   ]
  },
  {
   "cell_type": "code",
   "execution_count": 31,
   "id": "67fea5b4",
   "metadata": {},
   "outputs": [
    {
     "data": {
      "text/plain": [
       "12"
      ]
     },
     "execution_count": 31,
     "metadata": {},
     "output_type": "execute_result"
    }
   ],
   "source": [
    "def show_value(quantity):\n",
    "    quantity= int(12)\n",
    "    return quantity\n",
    "show_value(\"\")"
   ]
  },
  {
   "cell_type": "code",
   "execution_count": 33,
   "id": "4ea3d75b",
   "metadata": {},
   "outputs": [
    {
     "name": "stdout",
     "output_type": "stream",
     "text": [
      "1 3.4\n",
      "0 0\n",
      "1 3.4\n"
     ]
    },
    {
     "data": {
      "text/plain": [
       "'s'"
      ]
     },
     "execution_count": 33,
     "metadata": {},
     "output_type": "execute_result"
    }
   ],
   "source": [
    "def my_function(a=3, b=2, c=1):\n",
    "    return (b, a, c)\n",
    "my_function()\n",
    "\n",
    "def main():\n",
    " x = 1\n",
    " y = 3.4\n",
    " print(x, y)\n",
    " change_us(x, y)\n",
    " print(x, y)\n",
    "def change_us(a, b):\n",
    " a = 0\n",
    " b = 0\n",
    " print(a, b)\n",
    "main()\n",
    "\n",
    "def my_function(x, y):\n",
    "    return x[y] \n",
    "my_function(\"testing\", 2)\n"
   ]
  },
  {
   "cell_type": "code",
   "execution_count": 34,
   "id": "6b0fba35",
   "metadata": {},
   "outputs": [
    {
     "name": "stdout",
     "output_type": "stream",
     "text": [
      "95\n"
     ]
    }
   ],
   "source": [
    "import random\n",
    "rand = random.randint(1,100)\n",
    "print(rand)\n"
   ]
  },
  {
   "cell_type": "code",
   "execution_count": 35,
   "id": "5155bb18",
   "metadata": {},
   "outputs": [
    {
     "name": "stdout",
     "output_type": "stream",
     "text": [
      "7.0\n"
     ]
    }
   ],
   "source": [
    "def half(number):\n",
    "    result = number/2\n",
    "    return result\n",
    "half(14)\n",
    "\n",
    "def half(number):\n",
    "    result = number/2\n",
    "    return result\n",
    "result = half(14)\n",
    "print(result)\n"
   ]
  },
  {
   "cell_type": "code",
   "execution_count": 36,
   "id": "4ea13d2c",
   "metadata": {},
   "outputs": [
    {
     "name": "stdout",
     "output_type": "stream",
     "text": [
      "64\n"
     ]
    }
   ],
   "source": [
    "def cube(num): \n",
    "    return num * num * num\n",
    "result = cube(4)\n",
    "print(result)\n"
   ]
  },
  {
   "cell_type": "code",
   "execution_count": 37,
   "id": "af77914c",
   "metadata": {},
   "outputs": [
    {
     "name": "stdout",
     "output_type": "stream",
     "text": [
      "30\n"
     ]
    }
   ],
   "source": [
    "def times_ten(num):\n",
    "    return num * 10\n",
    "result = times_ten(3)\n",
    "print(result)"
   ]
  },
  {
   "cell_type": "code",
   "execution_count": 38,
   "id": "9a3e77c3",
   "metadata": {},
   "outputs": [
    {
     "data": {
      "text/plain": [
       "False"
      ]
     },
     "execution_count": 38,
     "metadata": {},
     "output_type": "execute_result"
    }
   ],
   "source": [
    "def is_valid_length(string, num):\n",
    "    sum = 0\n",
    "    for ch in string:\n",
    "        sum +=1\n",
    "    if (sum> num):\n",
    "        return False\n",
    "    else: \n",
    "        return True\n",
    "is_valid_length(\"gigabyte\", 7)\n"
   ]
  },
  {
   "cell_type": "markdown",
   "id": "6605098d",
   "metadata": {},
   "source": [
    "## programming exercises"
   ]
  },
  {
   "cell_type": "code",
   "execution_count": 39,
   "id": "4527815e",
   "metadata": {},
   "outputs": [
    {
     "name": "stdout",
     "output_type": "stream",
     "text": [
      "Enter a distance in kilometers: 12\n",
      "The distance in miles is: 7.456799999999999\n"
     ]
    }
   ],
   "source": [
    "def calc_miles(kilometers):\n",
    "    miles = kilometers * 0.6214\n",
    "    return miles\n",
    "kilometers = float(input(\"Enter a distance in kilometers: \"))\n",
    "miles = calc_miles(kilometers)\n",
    "print(\"The distance in miles is:\", miles)\n"
   ]
  },
  {
   "cell_type": "code",
   "execution_count": 40,
   "id": "a8d18fa4",
   "metadata": {},
   "outputs": [
    {
     "name": "stdout",
     "output_type": "stream",
     "text": [
      "Enter a string to be repeated: gift\n",
      "Enter the number of times for the string to be repeated: 4\n",
      "gift repeated 4 times is giftgiftgiftgift.\n"
     ]
    }
   ],
   "source": [
    "def repeat(text, num):\n",
    "    newtext = text*num\n",
    "    return newtext\n",
    "text = input(\"Enter a string to be repeated: \")\n",
    "num = int(input(\"Enter the number of times for the string to be repeated: \"))\n",
    "newtext = repeat(text, num)\n",
    "print(f\"{text} repeated {num} times is {newtext}.\")\n"
   ]
  },
  {
   "cell_type": "code",
   "execution_count": 41,
   "id": "993dbea9",
   "metadata": {},
   "outputs": [
    {
     "name": "stdout",
     "output_type": "stream",
     "text": [
      "Enter the replacement cost of the building: 25000\n",
      "The minimum insurance for the building is $20000.0.\n"
     ]
    }
   ],
   "source": [
    "def insurance(repamount):\n",
    "    insurance = 0.8 * repamount\n",
    "    return insurance\n",
    "amount = int(input(\"Enter the replacement cost of the building: \"))\n",
    "insurance = insurance(amount)\n",
    "print(f\"The minimum insurance for the building is ${insurance}.\")\n"
   ]
  },
  {
   "cell_type": "code",
   "execution_count": 42,
   "id": "92eddb55",
   "metadata": {},
   "outputs": [
    {
     "name": "stdout",
     "output_type": "stream",
     "text": [
      "Enter the monthly loan payment: 2000\n",
      "Enter the monthly insurance cost: 3000\n",
      "Enter the monthly gas cost: 4000\n",
      "Enter the monthly oil cost: 3000\n",
      "Enter the monthly tires cost: 4000\n",
      "Enter the monthly maintenance cost: 10000\n",
      "Total monthly cost of automobile expenses: $ 26000.0\n",
      "Total annual cost of automobile expenses: $ 312000.0\n"
     ]
    }
   ],
   "source": [
    "def annualcost(mcost):\n",
    "    return mcost * 12\n",
    "loanpay = float(input(\"Enter the monthly loan payment: \"))\n",
    "insurance = float(input(\"Enter the monthly insurance cost: \"))\n",
    "gas = float(input(\"Enter the monthly gas cost: \"))\n",
    "oil = float(input(\"Enter the monthly oil cost: \"))\n",
    "tires = float(input(\"Enter the monthly tires cost: \"))\n",
    "maintenance = float(input(\"Enter the monthly maintenance cost: \"))\n",
    "\n",
    "total_mcost = loanpay + insurance + gas + oil + tires + maintenance\n",
    "total_annualcost = annualcost(total_mcost)\n",
    "print(\"Total monthly cost of automobile expenses: $\", total_mcost)\n",
    "print(\"Total annual cost of automobile expenses: $\", total_annualcost)\n"
   ]
  },
  {
   "cell_type": "code",
   "execution_count": 43,
   "id": "558a2acf",
   "metadata": {},
   "outputs": [
    {
     "name": "stdout",
     "output_type": "stream",
     "text": [
      "Enter the actual value of the property: 2000\n",
      "The assessment value of the property is $1200.0.\n",
      "The property tax of the property valued at $1200.0 is $8.64.\n"
     ]
    }
   ],
   "source": [
    "def calc_assessval(value):\n",
    "    assessval= value *0.6\n",
    "    return assessval\n",
    "def calc_proptax(assessval):\n",
    "    proptax = assessval * (0.72 / 100)\n",
    "    return proptax\n",
    "value = float(input(\"Enter the actual value of the property: \"))\n",
    "assessment_value = calc_assessval(value)\n",
    "property_tax = calc_proptax(assessment_value)\n",
    "print(f\"The assessment value of the property is ${assessment_value}.\")\n",
    "print(f\"The property tax of the property valued at ${assessment_value} is ${property_tax}.\")\n"
   ]
  },
  {
   "cell_type": "code",
   "execution_count": 44,
   "id": "aac96dac",
   "metadata": {},
   "outputs": [
    {
     "name": "stdout",
     "output_type": "stream",
     "text": [
      "Enter the amount of fat consumed today: 20\n",
      "Enter the amount of carbs consumed today: 10\n",
      "The amount of calories from fat is 180.0.\n",
      "The amount of calories from carbs is 40.0.\n"
     ]
    }
   ],
   "source": [
    "def calc_caloriesfat(fat_g):\n",
    "    calfromfat = fat_g *9\n",
    "    return calfromfat\n",
    "def calc_caloriescarbs(carbs_g):\n",
    "    calfromcarbs = carbs_g * 4\n",
    "    return calfromcarbs\n",
    "\n",
    "fat_g = float(input(\"Enter the amount of fat consumed today: \"))\n",
    "carbs_g = float(input(\"Enter the amount of carbs consumed today: \"))\n",
    "\n",
    "caloriesfat = calc_caloriesfat(fat_g)\n",
    "caloriescarbs = calc_caloriescarbs(carbs_g)\n",
    "print(f\"The amount of calories from fat is {caloriesfat}.\")\n",
    "print(f\"The amount of calories from carbs is {caloriescarbs}.\")\n"
   ]
  },
  {
   "cell_type": "code",
   "execution_count": 45,
   "id": "c327b77e",
   "metadata": {},
   "outputs": [
    {
     "name": "stdout",
     "output_type": "stream",
     "text": [
      "Enter the amount of Class A tickets sold: 200\n",
      "Enter the amount of Class B tickets sold: 189\n",
      "Enter the amount of Class C tickets sold: 23\n",
      "The total income generated from the tickets sold is $7065.\n"
     ]
    }
   ],
   "source": [
    "def calc_ticketincome(classA, classB, classC):\n",
    "    total = (classA * 20) + (classB * 15) +(classC * 10)\n",
    "    return total\n",
    "classA = int(input(\"Enter the amount of Class A tickets sold: \"))\n",
    "classB = int(input(\"Enter the amount of Class B tickets sold: \"))\n",
    "classC = int(input(\"Enter the amount of Class C tickets sold: \"))\n",
    "total = calc_ticketincome(classA, classB, classC)\n",
    "print(f\"The total income generated from the tickets sold is ${total}.\")\n"
   ]
  },
  {
   "cell_type": "code",
   "execution_count": 46,
   "id": "0b0e7f99",
   "metadata": {},
   "outputs": [
    {
     "name": "stdout",
     "output_type": "stream",
     "text": [
      "Enter the square foot of wall space to be painted: 23\n",
      "Enter the price of the paint per gallon: 100\n",
      "The number of paint gallons required is 0.21.\n",
      "The hours of labour required is 1.64.\n",
      "The cost of paint  is 20.54.\n",
      "The labour charges is 57.50.\n",
      "The total cost of the paint job is 78.04.\n"
     ]
    }
   ],
   "source": [
    "def calc_gallonspaint(wallspace):\n",
    "    gallonspaint = wallspace / 112\n",
    "    return gallonspaint\n",
    "wallspace = int(input(\"Enter the square foot of wall space to be painted: \"))\n",
    "paintprice = int(input(\"Enter the price of the paint per gallon: \"))\n",
    "\n",
    "gallonspaint = calc_gallonspaint(wallspace)\n",
    "labour = gallonspaint * 8\n",
    "labourcharges = labour * 35\n",
    "paintcost = paintprice* gallonspaint\n",
    "totalcost = labourcharges + paintcost\n",
    "print(f\"The number of paint gallons required is {gallonspaint:.2f}.\")\n",
    "print(f\"The hours of labour required is {labour:.2f}.\")\n",
    "print(f\"The cost of paint  is {paintcost:.2f}.\")\n",
    "print(f\"The labour charges is {labourcharges:.2f}.\")\n",
    "print(f\"The total cost of the paint job is {totalcost:.2f}.\")\n"
   ]
  },
  {
   "cell_type": "code",
   "execution_count": 47,
   "id": "2404d36e",
   "metadata": {},
   "outputs": [
    {
     "name": "stdout",
     "output_type": "stream",
     "text": [
      "Enter the total sales of the month: 2900\n",
      "The country sales tax is $72.5.\n",
      "The state sales tax is $145.0.\n",
      "The total sales tax is $217.5.\n"
     ]
    }
   ],
   "source": [
    "def calc_statetax(totalsales):\n",
    "    statetax = totalsales * 0.05\n",
    "    return statetax\n",
    "def calc_countrytax(totalsales):\n",
    "    countrytax = totalsales * 0.025\n",
    "    return countrytax\n",
    "totalsales= int(input(\"Enter the total sales of the month: \"))\n",
    "countrytax = calc_countrytax(totalsales)\n",
    "statetax = calc_statetax(totalsales)\n",
    "totaltax = countrytax + statetax\n",
    "print(f\"The country sales tax is ${countrytax}.\")\n",
    "print(f\"The state sales tax is ${statetax}.\")\n",
    "print(f\"The total sales tax is ${totaltax}.\")\n"
   ]
  },
  {
   "cell_type": "code",
   "execution_count": 48,
   "id": "b72ef1ff",
   "metadata": {},
   "outputs": [
    {
     "name": "stdout",
     "output_type": "stream",
     "text": [
      "Enter the number of feet: 23\n",
      "There are 276 inches in 23 feet.\n"
     ]
    }
   ],
   "source": [
    "def feet_to_inches(feet):\n",
    "    inches = feet * 12\n",
    "    return inches\n",
    "feet= int(input(\"Enter the number of feet: \"))\n",
    "inches = feet_to_inches(feet)\n",
    "print(f\"There are {inches} inches in {feet} feet.\")\n"
   ]
  },
  {
   "cell_type": "code",
   "execution_count": 49,
   "id": "65944d08",
   "metadata": {},
   "outputs": [
    {
     "name": "stdout",
     "output_type": "stream",
     "text": [
      "Question 1\n",
      "2 + 3 = _____\n",
      "\n",
      "Question 2\n",
      "1 + 5 = _____\n",
      "\n",
      "Question 3\n",
      "10 + 2 = _____\n",
      "\n",
      "Question 4\n",
      "6 + 5 = _____\n",
      "\n",
      "Question 5\n",
      "3 + 4 = _____\n",
      "\n"
     ]
    }
   ],
   "source": [
    "import random\n",
    "def generate_addition_tests(num_tests):\n",
    "    for i in range(1, num_tests + 1):\n",
    "        num1 = random.randint(1, 10)\n",
    "        num2 = random.randint(1, 10)\n",
    "        print(f\"Question {i}\")\n",
    "        print(f\"{num1} + {num2} = _____\")\n",
    "        print()\n",
    "generate_addition_tests(5)\n"
   ]
  },
  {
   "cell_type": "code",
   "execution_count": 50,
   "id": "aaebce08",
   "metadata": {},
   "outputs": [
    {
     "name": "stdout",
     "output_type": "stream",
     "text": [
      "Enter a number:23\n",
      "Enter a number:24\n",
      "The larger number is 24.\n"
     ]
    }
   ],
   "source": [
    "def calc_max(num1, num2):\n",
    "    if num1> num2:\n",
    "        return num1\n",
    "    else:\n",
    "        return num2\n",
    "num1 = int(input(\"Enter a number:\"))\n",
    "num2 = int(input(\"Enter a number:\"))\n",
    "maximum = calc_max(num1, num2)\n",
    "print(f\"The larger number is {maximum}.\")\n"
   ]
  },
  {
   "cell_type": "code",
   "execution_count": 52,
   "id": "ae73c7d6",
   "metadata": {},
   "outputs": [
    {
     "name": "stdout",
     "output_type": "stream",
     "text": [
      "The object has fallen 4.90 meters in 1 seconds.\n",
      "The object has fallen 19.60 meters in 2 seconds.\n",
      "The object has fallen 44.10 meters in 3 seconds.\n",
      "The object has fallen 78.40 meters in 4 seconds.\n",
      "The object has fallen 122.50 meters in 5 seconds.\n",
      "The object has fallen 176.40 meters in 6 seconds.\n",
      "The object has fallen 240.10 meters in 7 seconds.\n",
      "The object has fallen 313.60 meters in 8 seconds.\n",
      "The object has fallen 396.90 meters in 9 seconds.\n",
      "The object has fallen 490.00 meters in 10 seconds.\n"
     ]
    }
   ],
   "source": [
    "def falling_distance(time):\n",
    "    distance= 0.5 * 9.8 * time * time\n",
    "    return distance\n",
    "for time in range(1, 11):\n",
    "    distance = falling_distance(time)\n",
    "    print(f\"The object has fallen {distance:.2f} meters in {time} seconds.\")\n"
   ]
  },
  {
   "cell_type": "code",
   "execution_count": 53,
   "id": "f52d56fd",
   "metadata": {},
   "outputs": [
    {
     "name": "stdout",
     "output_type": "stream",
     "text": [
      "Enter the objects mass: 89\n",
      "Enter the objects velocity: 4\n",
      "The object has a kinetic energy of 712.00 Joules.\n"
     ]
    }
   ],
   "source": [
    "def kinetic_energy(mass, velocity):\n",
    "    KE = 0.5 * mass * (velocity ** 2)\n",
    "    return KE\n",
    "mass = float(input(\"Enter the objects mass: \"))\n",
    "velocity = float(input(\"Enter the objects velocity: \"))\n",
    "KE = kinetic_energy(mass, velocity)\n",
    "print(f\"The object has a kinetic energy of {KE:.2f} Joules.\")\n"
   ]
  },
  {
   "cell_type": "code",
   "execution_count": 55,
   "id": "c95ed658",
   "metadata": {},
   "outputs": [
    {
     "name": "stdout",
     "output_type": "stream",
     "text": [
      "Enter test score 1: 12\n",
      "Enter test score 2: 13\n",
      "Enter test score 3: 45\n",
      "Enter test score 4: 67\n",
      "Enter test score 5: 89\n",
      "Letter grades:\n",
      "Score: 12.0 - Grade: F\n",
      "Score: 13.0 - Grade: F\n",
      "Score: 45.0 - Grade: F\n",
      "Score: 67.0 - Grade: D\n",
      "Score: 89.0 - Grade: B\n",
      "Average score: 45.2\n"
     ]
    }
   ],
   "source": [
    "def calc_average(scores):\n",
    "    total =sum(scores)\n",
    "    average = total/ len(scores)\n",
    "    return average\n",
    "def determine_grade(score):\n",
    "    if score >= 90:\n",
    "        return 'A'\n",
    "    elif score >= 80:\n",
    "        return 'B'\n",
    "    elif score >= 70:\n",
    "        return 'C'\n",
    "    elif score >= 60:\n",
    "        return 'D'\n",
    "    else:\n",
    "        return 'F'\n",
    "scores = []\n",
    "for i in range(5):\n",
    "    score = float(input(f\"Enter test score {i+1}: \"))\n",
    "    scores.append(score)\n",
    "average_score = calc_average(scores)\n",
    "print(\"Letter grades:\")\n",
    "for score in scores:\n",
    "    grade = determine_grade(score)\n",
    "    print(f\"Score: {score} - Grade: {grade}\")\n",
    "print(f\"Average score: {average_score}\")\n"
   ]
  },
  {
   "cell_type": "code",
   "execution_count": 56,
   "id": "b72d4d58",
   "metadata": {},
   "outputs": [
    {
     "name": "stdout",
     "output_type": "stream",
     "text": [
      "Number of even numbers: 52\n",
      "Number of odd numbers: 48\n"
     ]
    }
   ],
   "source": [
    "import random\n",
    "even_count = 0\n",
    "odd_count = 0\n",
    "for _ in range(100):\n",
    "    random_number = random.randint(1, 100)\n",
    "    if random_number % 2 == 0:\n",
    "        even_count += 1\n",
    "    else:\n",
    "        odd_count += 1\n",
    "print(\"Number of even numbers:\", even_count)\n",
    "print(\"Number of odd numbers:\", odd_count)\n",
    "\n"
   ]
  },
  {
   "cell_type": "code",
   "execution_count": 59,
   "id": "8d4a6a82",
   "metadata": {},
   "outputs": [
    {
     "name": "stdout",
     "output_type": "stream",
     "text": [
      "Enter a number: 56\n",
      "The number 56 is not prime.\n"
     ]
    }
   ],
   "source": [
    "def is_prime(num):\n",
    "    if num < 2:\n",
    "        return False\n",
    "    for i in range(2, int(num ** 0.5) + 1):\n",
    "        if num % i == 0:\n",
    "            return False\n",
    "    return True\n",
    "user_input = int(input(\"Enter a number: \"))\n",
    "if is_prime(user_input):\n",
    "    print(f\"The number {user_input} is prime.\")\n",
    "else:\n",
    "    print(f\"The number {user_input} is not prime.\")"
   ]
  },
  {
   "cell_type": "code",
   "execution_count": 58,
   "id": "303004ca",
   "metadata": {},
   "outputs": [
    {
     "name": "stdout",
     "output_type": "stream",
     "text": [
      "The prime numbers between 1 and 100 are:\n",
      "2\n",
      "3\n",
      "5\n",
      "7\n",
      "11\n",
      "13\n",
      "17\n",
      "19\n",
      "23\n",
      "29\n",
      "31\n",
      "37\n",
      "41\n",
      "43\n",
      "47\n",
      "53\n",
      "59\n",
      "61\n",
      "67\n",
      "71\n",
      "73\n",
      "79\n",
      "83\n",
      "89\n",
      "97\n"
     ]
    }
   ],
   "source": [
    "\n",
    "def is_prime(num):\n",
    "    if num < 2:\n",
    "        return False\n",
    "    for i in range(2, int(num ** 0.5) + 1):\n",
    "        if num % i == 0:\n",
    "            return False\n",
    "    return True\n",
    "print(\"The prime numbers between 1 and 100 are:\")\n",
    "for num in range(1, 101):\n",
    "    if is_prime(num):\n",
    "        print(num)\n"
   ]
  },
  {
   "cell_type": "code",
   "execution_count": 60,
   "id": "d5012e67",
   "metadata": {},
   "outputs": [
    {
     "name": "stdout",
     "output_type": "stream",
     "text": [
      "Enter the loan amount: 19000\n",
      "Enter the monthly interest rate as a percentage: 3\n",
      "Enter the desidered number of months: 14\n",
      "The monthly payment requires is 1682.00.\n"
     ]
    }
   ],
   "source": [
    "def calc_monthlypayment(A, R, M):\n",
    "    Rdec= R /100\n",
    "    D = (1+Rdec)**-M\n",
    "    P= (Rdec * A)/(1-D)\n",
    "    return P\n",
    "loanamount = float(input(\"Enter the loan amount: \"))\n",
    "monthlyinterest = float(input(\"Enter the monthly interest rate as a percentage: \"))\n",
    "months = float(input(\"Enter the desired number of months: \"))\n",
    "monthlypayment = calc_monthlypayment(loanamount, monthlyinterest, months)\n",
    "print(f\"The monthly payment requires is {monthlypayment:.2f}.\")\n",
    "\n"
   ]
  },
  {
   "cell_type": "code",
   "execution_count": null,
   "id": "a22ff549",
   "metadata": {},
   "outputs": [],
   "source": [
    "import random\n",
    "def play_guessing_game():\n",
    "    random_number = random.randint(1, 100)\n",
    "    num_guesses = 0\n",
    "\n",
    "    while True:\n",
    "        guess = int(input(\"Guess the number (between 1 and 100): \"))\n",
    "        num_guesses += 1\n",
    "\n",
    "        if guess > random_number:\n",
    "            print(\"Too high, try again.\")\n",
    "        elif guess < random_number:\n",
    "            print(\"Too low, try again.\")\n",
    "        else:\n",
    "            print(\"Congratulations! You guessed the number!\")\n",
    "            print(\"Number of guesses:\", num_guesses)\n",
    "            break\n",
    "\n",
    "    print(\"Generating a new random number...\")\n",
    "    play_guessing_game()\n",
    "\n",
    "# Start the game\n",
    "play_guessing_game()\n",
    "\n"
   ]
  },
  {
   "cell_type": "code",
   "execution_count": null,
   "id": "60798c44",
   "metadata": {},
   "outputs": [
    {
     "name": "stdout",
     "output_type": "stream",
     "text": [
      "Rock, Paper, Scissors\n",
      "---------------------\n",
      "1. Rock\n",
      "2. Paper\n",
      "3. Scissors\n",
      "---------------------\n",
      "Enter your choice (1-3): 2\n",
      "Your choice: paper\n",
      "Computer's choice: paper\n",
      "It's a tie! Play again.\n",
      "Rock, Paper, Scissors\n",
      "---------------------\n",
      "1. Rock\n",
      "2. Paper\n",
      "3. Scissors\n",
      "---------------------\n"
     ]
    }
   ],
   "source": [
    "import random\n",
    "\n",
    "def play_rock_paper_scissors():\n",
    "    choices = [\"rock\", \"paper\", \"scissors\"]\n",
    "    computer_choice = random.choice(choices)\n",
    "\n",
    "    print(\"Rock, Paper, Scissors\")\n",
    "    print(\"---------------------\")\n",
    "    print(\"1. Rock\")\n",
    "    print(\"2. Paper\")\n",
    "    print(\"3. Scissors\")\n",
    "    print(\"---------------------\")\n",
    "\n",
    "    user_choice = int(input(\"Enter your choice (1-3): \"))\n",
    "    user_choice -= 1  # Adjusting index to match the choices list\n",
    "\n",
    "    if user_choice < 0 or user_choice >= len(choices):\n",
    "        print(\"Invalid choice. Please try again.\")\n",
    "        play_rock_paper_scissors()\n",
    "\n",
    "    print(\"Your choice:\", choices[user_choice])\n",
    "    print(\"Computer's choice:\", computer_choice)\n",
    "\n",
    "    if user_choice == choices.index(computer_choice):\n",
    "        print(\"It's a tie! Play again.\")\n",
    "        play_rock_paper_scissors()\n",
    "    elif (user_choice == 0 and choices.index(computer_choice) == 2) or \\\n",
    "         (user_choice == 1 and choices.index(computer_choice) == 0) or \\\n",
    "         (user_choice == 2 and choices.index(computer_choice) == 1):\n",
    "        print(\"Congratulations! You win!\")\n",
    "    else:\n",
    "        print(\"Computer wins. Better luck next time.\")\n",
    "\n",
    "    play_again = input(\"Do you want to play again? (yes/no): \")\n",
    "    if play_again.lower() == \"yes\":\n",
    "        play_rock_paper_scissors()\n",
    "    else:\n",
    "        print(\"Thank you for playing.\")\n",
    "play_rock_paper_scissors()\n"
   ]
  },
  {
   "cell_type": "markdown",
   "id": "9798bc5c",
   "metadata": {},
   "source": [
    "# CHAPTER 7"
   ]
  },
  {
   "cell_type": "code",
   "execution_count": 63,
   "id": "128b1b3f",
   "metadata": {},
   "outputs": [
    {
     "name": "stdout",
     "output_type": "stream",
     "text": [
      "[1, 2, 3, 4, 5, 6, 7, 8, 9, 10, 11, 12, 13, 14, 15, 16, 17, 18, 19, 20, 21, 22, 23, 24, 25, 26, 27, 28, 29, 30, 31, 32, 33, 34, 35, 36, 37, 38, 39, 40, 41, 42, 43, 44, 45, 46, 47, 48, 49, 50, 51, 52, 53, 54, 55, 56, 57, 58, 59, 60, 61, 62, 63, 64, 65, 66, 67, 68, 69, 70, 71, 72, 73, 74, 75, 76, 77, 78, 79, 80, 81, 82, 83, 84, 85, 86, 87, 88, 89, 90, 91, 92, 93, 94, 95, 96, 97, 98, 99, 100]\n"
     ]
    }
   ],
   "source": [
    "a = list(range(1, 101))\n",
    "print(a)"
   ]
  },
  {
   "cell_type": "code",
   "execution_count": 1,
   "id": "2efe896d",
   "metadata": {},
   "outputs": [
    {
     "name": "stdout",
     "output_type": "stream",
     "text": [
      "David\n",
      "Chibuihe\n",
      "Bolu\n",
      "Sammy\n",
      "Frankie\n",
      "Tega\n",
      "Tammy\n"
     ]
    }
   ],
   "source": [
    "names = [\"David\",\"Chibuihe\",\"Bolu\",\"Sammy\",\"Frankie\",\"Tega\",\"Tammy\"]\n",
    "for i in names:\n",
    "    print(i)"
   ]
  },
  {
   "cell_type": "code",
   "execution_count": 2,
   "id": "940bf35e",
   "metadata": {},
   "outputs": [
    {
     "name": "stdout",
     "output_type": "stream",
     "text": [
      "The sorted list is: [9, 28, 29, 39, 47, 49, 53, 69, 86, 94]\n",
      "The reversed list is: [94, 86, 69, 53, 49, 47, 39, 29, 28, 9]\n",
      "The maximum value is: 94\n"
     ]
    }
   ],
   "source": [
    "import random\n",
    "scores = [random.randint(0, 100) for _ in range(10)]\n",
    "scores.sort()\n",
    "sorted_list = scores.copy()  \n",
    "scores.reverse()\n",
    "reversed_list = scores.copy()  \n",
    "print(f\"The sorted list is: {sorted_list}\")\n",
    "print(f\"The reversed list is: {reversed_list}\")\n",
    "if scores:  \n",
    "    max_value = max(scores)\n",
    "    print(f\"The maximum value is: {max_value}\")\n",
    "else:\n",
    "    print(\"The list is empty.\")\n"
   ]
  },
  {
   "cell_type": "code",
   "execution_count": 3,
   "id": "ed351240",
   "metadata": {},
   "outputs": [
    {
     "name": "stdout",
     "output_type": "stream",
     "text": [
      "Enter the number of values you want to enter4\n",
      "Enter the set of numbers1123\n",
      "Enter the set of numbers2234\n",
      "Enter the set of numbers3456\n",
      "Enter the set of numbers44567\n",
      "The total values is 5380\n"
     ]
    }
   ],
   "source": [
    "def get_values(number):\n",
    "    total = 0\n",
    "    for i in number:\n",
    "        total += i\n",
    "    return total\n",
    "def main():\n",
    "    numbers = []\n",
    "    no_of_values = int(input(\"Enter the number of values you want to enter\"))\n",
    "    for i in range(no_of_values):\n",
    "        user_input = int(input(f\"Enter the set of numbers{i+1}\"))\n",
    "        numbers.append(user_input)\n",
    "    total2 = get_values(numbers)\n",
    "    print(\"The total values is\",total2)\n",
    "main()"
   ]
  },
  {
   "cell_type": "code",
   "execution_count": 4,
   "id": "ba9e023d",
   "metadata": {},
   "outputs": [
    {
     "name": "stdout",
     "output_type": "stream",
     "text": [
      "Hello Ruby\n"
     ]
    }
   ],
   "source": [
    "names = [\"Ruby\",\"Faith\", \"Oseaghe\", \"Emateyi\"]\n",
    "if \"Ruby\" in names:\n",
    "    print(\"Hello Ruby\")\n",
    "else:\n",
    "    print(\"No Ruby\")"
   ]
  },
  {
   "cell_type": "code",
   "execution_count": 5,
   "id": "db715d3d",
   "metadata": {},
   "outputs": [
    {
     "name": "stdout",
     "output_type": "stream",
     "text": [
      "[3, 1, 2, 1, 2]\n"
     ]
    }
   ],
   "source": [
    "list1 = [1,2]*2\n",
    "list2 =  [3]\n",
    "list2 += list1\n",
    "print(list2)"
   ]
  },
  {
   "cell_type": "code",
   "execution_count": 6,
   "id": "82cb9651",
   "metadata": {},
   "outputs": [
    {
     "name": "stdout",
     "output_type": "stream",
     "text": [
      "Enter a value for element (1, 1): 12\n",
      "Enter a value for element (1, 2): 21\n",
      "Enter a value for element (1, 3): 23\n",
      "Enter a value for element (2, 1): 11\n",
      "Enter a value for element (2, 2): 22\n",
      "Enter a value for element (2, 3): 13\n",
      "Enter a value for element (3, 1): 14\n",
      "Enter a value for element (3, 2): 13\n",
      "Enter a value for element (3, 3): 11\n",
      "Enter a value for element (4, 1): 1\n",
      "Enter a value for element (4, 2): 1\n",
      "Enter a value for element (4, 3): 1\n",
      "Enter a value for element (5, 1): 1\n",
      "Enter a value for element (5, 2): 1\n",
      "Enter a value for element (5, 3): 1\n",
      "[[12, 21, 23], [11, 22, 13], [14, 13, 11], [1, 1, 1], [1, 1, 1]]\n"
     ]
    }
   ],
   "source": [
    "ROWS = 5\n",
    "COLS = 3\n",
    "my_list = []\n",
    "for r in range(ROWS):\n",
    "    my_list.append([0] * COLS)\n",
    "for i in range(ROWS):\n",
    "    for j in range(COLS):\n",
    "        user_value = int(input(f\"Enter a value for element ({i + 1}, {j + 1}): \"))\n",
    "        my_list[i][j] = user_value\n",
    "\n",
    "print(my_list)"
   ]
  },
  {
   "cell_type": "markdown",
   "id": "99847377",
   "metadata": {},
   "source": [
    "## Programming Exercises"
   ]
  },
  {
   "cell_type": "code",
   "execution_count": 7,
   "id": "50c5b4ad",
   "metadata": {},
   "outputs": [
    {
     "name": "stdout",
     "output_type": "stream",
     "text": [
      "[74, 19, 20, 67, 77, 38]\n",
      "295\n",
      "the average is 49.166666666666664\n"
     ]
    }
   ],
   "source": [
    "numbers = [74, 19, 105, 20, -2, 67, 77, 124, -45, 38]\n",
    "valid_numbers = []\n",
    "for i in numbers:\n",
    "    if  0 <= i <= 100:\n",
    "        valid_numbers.append(i)\n",
    "print(valid_numbers)\n",
    "total = 0\n",
    "for i in valid_numbers:\n",
    "    total += i\n",
    "print(total)\n",
    "average = total/(len(valid_numbers))\n",
    "print(f\"the average is {average}\")"
   ]
  },
  {
   "cell_type": "code",
   "execution_count": 8,
   "id": "be387d85",
   "metadata": {},
   "outputs": [
    {
     "name": "stdout",
     "output_type": "stream",
     "text": [
      "[2, 8, 9, 9, 4, 4, 5]\n"
     ]
    }
   ],
   "source": [
    "import random\n",
    "random_list = []\n",
    "for i in range(7):\n",
    "    random_number = random.randint(0,9)\n",
    "    random_list.append(random_number)\n",
    "print(random_list)"
   ]
  },
  {
   "cell_type": "code",
   "execution_count": 9,
   "id": "cdbf2c82",
   "metadata": {},
   "outputs": [
    {
     "name": "stdout",
     "output_type": "stream",
     "text": [
      "Enter the rainfall for month 12\n",
      "Enter the rainfall for month 23\n",
      "Enter the rainfall for month 34\n",
      "Enter the rainfall for month 45\n",
      "Enter the rainfall for month 56\n",
      "Enter the rainfall for month 67\n",
      "Enter the rainfall for month 710\n",
      "Enter the rainfall for month 823\n",
      "Enter the rainfall for month 912\n",
      "Enter the rainfall for month 1011\n",
      "Enter the rainfall for month 1123\n",
      "Enter the rainfall for month 1211\n",
      "The maximum rainfall occured in month 7\n"
     ]
    }
   ],
   "source": [
    "rainfall = []\n",
    "for i in range(12):\n",
    "    user = float(input(f\"Enter the rainfall for month {i+1}\"))\n",
    "    rainfall.append(user)\n",
    "total = sum(rainfall)\n",
    "average = total/len(rainfall)\n",
    "for i in rainfall:\n",
    "    maximum = rainfall.index(max(rainfall))\n",
    "print(f\"The maximum rainfall occured in month {maximum}\")"
   ]
  },
  {
   "cell_type": "code",
   "execution_count": 11,
   "id": "a2bff221",
   "metadata": {},
   "outputs": [
    {
     "name": "stdout",
     "output_type": "stream",
     "text": [
      "Enter the series of number 1: 123\n",
      "Enter the series of number 2: 12\n",
      "Enter the series of number 3: 234\n",
      "Enter the series of number 4: 123\n",
      "Enter the series of number 5: 123\n",
      "Enter the series of number 6: 111\n",
      "Enter the series of number 7: 222\n",
      "Enter the series of number 8: 333\n",
      "Enter the series of number 9: 45667\n",
      "Enter the series of number 10: 123\n",
      "Enter the series of number 11: 123\n",
      "Enter the series of number 12: 3456\n",
      "Enter the series of number 13: 6789\n",
      "Enter the series of number 14: 340\n",
      "Enter the series of number 15: 234\n",
      "Enter the series of number 16: 123\n",
      "Enter the series of number 17: 678\n",
      "Enter the series of number 18: 7890\n",
      "Enter the series of number 19: 23456\n",
      "Enter the series of number 20: 1236\n",
      "\n",
      "The lowest number in the list is 12\n",
      "The highest number in the list is 45667\n",
      "The total of the number in the list is 91396\n",
      "The average of the number in the list is 4569.8\n"
     ]
    }
   ],
   "source": [
    "import math\n",
    "numbers = []\n",
    "total = 0\n",
    "for i in range(20):\n",
    "    user_input = int(input(f\"Enter the series of number {i+1}: \"))\n",
    "    numbers.append(user_input)\n",
    "    total += user_input\n",
    "\n",
    "\n",
    "maximum = max(numbers)\n",
    "lowest = min(numbers)\n",
    "average = total/20\n",
    "print(f\"\\nThe lowest number in the list is {lowest}\")\n",
    "print(f\"The highest number in the list is {maximum}\")\n",
    "print(f\"The total of the number in the list is {total}\")\n",
    "print(f\"The average of the number in the list is {average}\")"
   ]
  },
  {
   "cell_type": "code",
   "execution_count": 12,
   "id": "345f2f57",
   "metadata": {},
   "outputs": [
    {
     "name": "stdout",
     "output_type": "stream",
     "text": [
      "Enter your answer for question 1: a\n",
      "Enter your answer for question 2: b\n",
      "Enter your answer for question 3: c\n",
      "Enter your answer for question 4: a\n",
      "Enter your answer for question 5: b\n",
      "Enter your answer for question 6: c\n",
      "Enter your answer for question 7: d\n",
      "Enter your answer for question 8: d\n",
      "Enter your answer for question 9: a\n",
      "Enter your answer for question 10: d\n",
      "Enter your answer for question 11: a\n",
      "Enter your answer for question 12: a\n",
      "Enter your answer for question 13: a\n",
      "Enter your answer for question 14: a\n",
      "Enter your answer for question 15: b\n",
      "Enter your answer for question 16: b\n",
      "Enter your answer for question 17: c\n",
      "Enter your answer for question 18: d\n",
      "Enter your answer for question 19: d\n",
      "Enter your answer for question 20: a\n",
      "1. Total correctly answered questions: 7\n",
      "2. Total incorrectly answered questions: 13\n",
      "3. List of incorrectly answered questions: [2, 3, 5, 6, 8, 9, 10, 12, 13, 15, 16, 17, 18]\n",
      "4. Result: Failed\n"
     ]
    }
   ],
   "source": [
    "def grade_exam(correct_answers, student_answers):\n",
    "    correct_count = 0\n",
    "    incorrect_count = 0\n",
    "    incorrect_questions = []\n",
    "\n",
    "    for i in range(len(correct_answers)):\n",
    "        if student_answers[i].upper() == correct_answers[i]:\n",
    "            correct_count += 1\n",
    "        else:\n",
    "            incorrect_count += 1\n",
    "            incorrect_questions.append(i + 1)\n",
    "\n",
    "    print(\"1. Total correctly answered questions:\", correct_count)\n",
    "    print(\"2. Total incorrectly answered questions:\", incorrect_count)\n",
    "    print(\"3. List of incorrectly answered questions:\", incorrect_questions)\n",
    "\n",
    "    if correct_count >= 15:\n",
    "        print(\"4. Result: Passed\")\n",
    "    else:\n",
    "        print(\"4. Result: Failed\")\n",
    "\n",
    "correct_answers = [\"A\", \"C\", \"D\", \"A\", \"D\", \"B\", \"D\", \"A\", \"C\", \"B\", \"A\", \"D\", \"C\", \"A\", \"D\", \"C\", \"B\", \"B\", \"D\", \"A\"]\n",
    "\n",
    "student_answers = []\n",
    "for i in range(20):\n",
    "    answer = input(f\"Enter your answer for question {i+1}: \")\n",
    "    student_answers.append(answer)\n",
    "\n",
    "grade_exam(correct_answers, student_answers)"
   ]
  },
  {
   "cell_type": "code",
   "execution_count": null,
   "id": "bd08b760",
   "metadata": {},
   "outputs": [],
   "source": []
  },
  {
   "cell_type": "code",
   "execution_count": 1,
   "id": "b96f0908",
   "metadata": {},
   "outputs": [
    {
     "name": "stdout",
     "output_type": "stream",
     "text": [
      "This is a Lo Shu Magic Square\n"
     ]
    }
   ],
   "source": [
    "def isLoShuMagicSquare(grid):\n",
    "    list = []\n",
    "    for i in range(3):\n",
    "        sumrow = 0\n",
    "        sumcol = 0\n",
    "        for j in range(3):\n",
    "            if 1<=grid[i][j]<=9:\n",
    "                sumrow += grid[i][j]\n",
    "                sumcol += grid[j][i]\n",
    "            else:\n",
    "                print(\"This is not a Lo Shu Magic Square\")\n",
    "                return\n",
    "        list.append(sumrow)\n",
    "        list.append(sumcol)\n",
    "    diagonal1 = grid[0][0] + grid[1][1] + grid[2][2]\n",
    "    diagonal2 = grid[0][2] + grid[1][1] + grid[2][0]\n",
    "    list.append(diagonal1)\n",
    "    list.append(diagonal2)\n",
    "    for i in range(1, len(list)):\n",
    "        if list[0] == list[i]:\n",
    "            if i == len(list) - 1:\n",
    "                print(\"This is a Lo Shu Magic Square\")\n",
    "                return\n",
    "            continue\n",
    "        else:\n",
    "            print(\"This is not a Lo Shu Magic Square\")\n",
    "            return\n",
    "\n",
    "\n",
    "grid = [[4,9,2],\n",
    "        [3,5,7],\n",
    "        [8,1,6]] \n",
    "isLoShuMagicSquare(grid)"
   ]
  }
 ],
 "metadata": {
  "kernelspec": {
   "display_name": "Python 3 (ipykernel)",
   "language": "python",
   "name": "python3"
  },
  "language_info": {
   "codemirror_mode": {
    "name": "ipython",
    "version": 3
   },
   "file_extension": ".py",
   "mimetype": "text/x-python",
   "name": "python",
   "nbconvert_exporter": "python",
   "pygments_lexer": "ipython3",
   "version": "3.11.5"
  }
 },
 "nbformat": 4,
 "nbformat_minor": 5
}
